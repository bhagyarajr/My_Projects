{
 "cells": [
  {
   "cell_type": "code",
   "execution_count": 1,
   "id": "1f7f3f6f",
   "metadata": {},
   "outputs": [],
   "source": [
    "# Web Scrapping is process of getting useful information from a website by using python"
   ]
  },
  {
   "cell_type": "code",
   "execution_count": 2,
   "id": "02d12adc",
   "metadata": {},
   "outputs": [],
   "source": [
    "# Top Industries are using Web Scrapping they are \n",
    "# 1.Retail and Manufacturing \n",
    "# 2.Financial Research\n",
    "# 3.Data Science\n",
    "# 4.Marketing and Sales\n",
    "# 5.Academic\n",
    "# 6.Journalism\n",
    "# 7.Real Estate"
   ]
  },
  {
   "cell_type": "code",
   "execution_count": 3,
   "id": "f903f9f5",
   "metadata": {},
   "outputs": [],
   "source": [
    "# Installation of Python Packages for web scrapping in windows"
   ]
  },
  {
   "cell_type": "code",
   "execution_count": 6,
   "id": "37df8039",
   "metadata": {},
   "outputs": [],
   "source": [
    "import requests"
   ]
  },
  {
   "cell_type": "code",
   "execution_count": 15,
   "id": "db0aefe3",
   "metadata": {},
   "outputs": [
    {
     "name": "stdout",
     "output_type": "stream",
     "text": [
      "Collecting bs4\n",
      "  Downloading bs4-0.0.1.tar.gz (1.1 kB)\n",
      "Requirement already satisfied: beautifulsoup4 in c:\\users\\codet\\anaconda3\\lib\\site-packages (from bs4) (4.11.1)\n",
      "Requirement already satisfied: soupsieve>1.2 in c:\\users\\codet\\anaconda3\\lib\\site-packages (from beautifulsoup4->bs4) (2.3.1)\n",
      "Building wheels for collected packages: bs4\n",
      "  Building wheel for bs4 (setup.py): started\n",
      "  Building wheel for bs4 (setup.py): finished with status 'done'\n",
      "  Created wheel for bs4: filename=bs4-0.0.1-py3-none-any.whl size=1272 sha256=9b9b0a14f7168f4cf7f40207d0bc9714cb084e39afdbd9cecd0307b72aa86f43\n",
      "  Stored in directory: c:\\users\\codet\\appdata\\local\\pip\\cache\\wheels\\73\\2b\\cb\\099980278a0c9a3e57ff1a89875ec07bfa0b6fcbebb9a8cad3\n",
      "Successfully built bs4\n",
      "Installing collected packages: bs4\n",
      "Successfully installed bs4-0.0.1\n"
     ]
    }
   ],
   "source": [
    "!pip install bs4"
   ]
  },
  {
   "cell_type": "code",
   "execution_count": 22,
   "id": "a7222034",
   "metadata": {},
   "outputs": [],
   "source": [
    "from bs4 import BeautifulSoup"
   ]
  },
  {
   "cell_type": "code",
   "execution_count": null,
   "id": "b1380be6",
   "metadata": {},
   "outputs": [],
   "source": []
  }
 ],
 "metadata": {
  "kernelspec": {
   "display_name": "Python 3 (ipykernel)",
   "language": "python",
   "name": "python3"
  },
  "language_info": {
   "codemirror_mode": {
    "name": "ipython",
    "version": 3
   },
   "file_extension": ".py",
   "mimetype": "text/x-python",
   "name": "python",
   "nbconvert_exporter": "python",
   "pygments_lexer": "ipython3",
   "version": "3.9.12"
  }
 },
 "nbformat": 4,
 "nbformat_minor": 5
}
