{
 "cells": [
  {
   "cell_type": "code",
   "execution_count": 2,
   "id": "68ee9819",
   "metadata": {},
   "outputs": [],
   "source": [
    "# Web Scrapping is process of getting useful information from a website by using python"
   ]
  },
  {
   "cell_type": "code",
   "execution_count": 3,
   "id": "fd4a0bb7",
   "metadata": {},
   "outputs": [],
   "source": [
    "# Top Industries are using Web Scrapping they are \n",
    "# 1.Retail and Manufacturing \n",
    "# 2.Financial Research\n",
    "# 3.Data Science\n",
    "# 4.Marketing and Sales\n",
    "# 5.Academic\n",
    "# 6.Journalism\n",
    "# 7.Real Estate"
   ]
  },
  {
   "cell_type": "code",
   "execution_count": 4,
   "id": "ef14aed0",
   "metadata": {},
   "outputs": [],
   "source": [
    "# Installation of Python Packages for web scrapping in windows"
   ]
  },
  {
   "cell_type": "code",
   "execution_count": 126,
   "id": "1a8d0435",
   "metadata": {},
   "outputs": [],
   "source": [
    "import re\n",
    "import requests"
   ]
  },
  {
   "cell_type": "code",
   "execution_count": 6,
   "id": "f42adefc",
   "metadata": {},
   "outputs": [],
   "source": [
    "# Incase beautifulsoup isn't install on your please install by using below command\n",
    "# !pip install bs4"
   ]
  },
  {
   "cell_type": "code",
   "execution_count": 60,
   "id": "41d6af00",
   "metadata": {},
   "outputs": [],
   "source": [
    "from bs4 import BeautifulSoup"
   ]
  },
  {
   "cell_type": "code",
   "execution_count": 40,
   "id": "1e79eb23",
   "metadata": {},
   "outputs": [
    {
     "name": "stdout",
     "output_type": "stream",
     "text": [
      "<Response [200]>\n"
     ]
    }
   ],
   "source": [
    "# Let's check how many requests does an website gets\n",
    "url = \"https://webscraper.io/test-sites/e-commerce/allinone/computers/tablets\"\n",
    "r = requests.get(url)\n",
    "print(r)\n",
    "# print(r.text)"
   ]
  },
  {
   "cell_type": "code",
   "execution_count": 55,
   "id": "d3050f9d",
   "metadata": {},
   "outputs": [],
   "source": [
    "# Let's get some of html attributes and tags using beautifulsoup in pyhton\n",
    "soup = BeautifulSoup(r.text,'lxml')\n",
    "# print(soup)\n",
    "# print(soup.header)\n",
    "# print(soup.header.attrs)"
   ]
  },
  {
   "cell_type": "code",
   "execution_count": 56,
   "id": "0a93a09f",
   "metadata": {},
   "outputs": [
    {
     "name": "stdout",
     "output_type": "stream",
     "text": [
      "$69.99\n"
     ]
    }
   ],
   "source": [
    "# find function is used to search or get first reached data related to that tag from the website.\n",
    "price = soup.find('h4',{'class':'pull-right price'})\n",
    "print(price.string)"
   ]
  },
  {
   "cell_type": "code",
   "execution_count": 57,
   "id": "eba5b0ac",
   "metadata": {},
   "outputs": [
    {
     "name": "stdout",
     "output_type": "stream",
     "text": [
      "7\" screen, Android\n"
     ]
    }
   ],
   "source": [
    "desc = soup.find('p',{'class':'description'})\n",
    "print(desc.string)"
   ]
  },
  {
   "cell_type": "code",
   "execution_count": 124,
   "id": "24bc9e64",
   "metadata": {},
   "outputs": [
    {
     "name": "stdout",
     "output_type": "stream",
     "text": [
      "200\n",
      "$97.99\n",
      "Black, 7\", 1.6GHz Dual-Core, 8GB, Android 4.4\n",
      "21\n"
     ]
    }
   ],
   "source": [
    "import requests\n",
    "from bs4 import BeautifulSoup\n",
    "url = \"https://webscraper.io/test-sites/e-commerce/allinone/computers/tablets\"\n",
    "r = requests.get(url)\n",
    "print(r.status_code)\n",
    "soup = BeautifulSoup(r.text,'lxml')\n",
    "prices = soup.find_all('h4',class_ = \"pull-right price\")\n",
    "desc = soup.find_all('p',class_ = 'description')\n",
    "# print(list(prices))\n",
    "count = 0\n",
    "for i in prices:\n",
    "    count += 1\n",
    "    if(count == 4):\n",
    "        print(i.text)\n",
    "        print(desc[count].text)\n",
    "print(len(prices))"
   ]
  },
  {
   "cell_type": "code",
   "execution_count": 136,
   "id": "e33223ec",
   "metadata": {},
   "outputs": [
    {
     "data": {
      "text/plain": [
       "['Apple iPad Air']"
      ]
     },
     "execution_count": 136,
     "metadata": {},
     "output_type": "execute_result"
    }
   ],
   "source": [
    "#beautiful soup with regular expression\n",
    "# data = soup.find_all(string=\"Galaxy Tab\")\n",
    "data = soup.find_all(string=re.compile('Apple'))\n",
    "data"
   ]
  },
  {
   "cell_type": "code",
   "execution_count": 151,
   "id": "2fe270a2",
   "metadata": {},
   "outputs": [
    {
     "name": "stdout",
     "output_type": "stream",
     "text": [
      "['Apple iPad Air', 'Apple iPad Air', 'Apple iPad Air', 'Apple iPad Air', 'Apple iPad Air', 'Apple iPad Air', 'Apple iPad Air', 'Apple iPad Air', 'Apple iPad Air', 'Apple iPad Air', 'Apple iPad Air', 'Apple iPad Air', 'Apple iPad Air', 'Apple iPad Air', 'Apple iPad Air', 'Apple iPad Air', 'Apple iPad Air', 'Apple iPad Air', 'Apple iPad Air', 'Apple iPad Air', 'Apple iPad Air']\n",
      "['$69.99', '$88.99', '$96.99', '$97.99', '$99.99', '$101.99', '$102.99', '$103.99', '$107.99', '$121.99', '$130.99', '$148.99', '$172.99', '$233.99', '$251.99', '$320.99', '$399.99', '$489.99', '$537.99', '$587.99', '$603.99']\n",
      "['7\" screen, Android', 'Black, 7\" IPS, Quad-Core 1.2GHz, 8GB, Android 4.2', '7\" screen, Android, 16GB', '7\", 8GB, Wi-Fi, Android 4.2, White', 'Black, 7\", 1.6GHz Dual-Core, 8GB, Android 4.4', 'IPS, Dual-Core 1.2GHz, 8GB, Android 4.3', '7\" screen, Android, 8GB', '6\" screen, wifi', '7\", 8GB, Wi-Fi, Android 4.2, Yellow', 'Blue, 8\" IPS, Quad-Core 1.3GHz, 16GB, Android 4.2', 'White, 7\", Atom 1.2GHz, 8GB, Android 4.4', 'Blue, 7\" IPS, Quad-Core 1.3GHz, 8GB, 3G, Android 4.2', 'Silver, 7\" IPS, Quad-Core 1.2Ghz, 16GB, 3G, Android 4.2', 'LTE (SM-T235), Quad-Core 1.2GHz, 8GB, Black', '16GB, White', 'White, 10.1\" IPS, 1.6GHz, 2GB, 16GB, Android 4.2', '10.1\", 3G, Android 4.0, Garnet Red', '12.2\", 32GB, WiFi, Android 4.4, White', 'Wi-Fi + Cellular, 32GB, Silver', '10.1\", 32GB, Black', 'Wi-Fi, 64GB, Silver']\n",
      "['7 reviews', '7 reviews', '7 reviews', '2 reviews', '1 reviews', '10 reviews', '14 reviews', '3 reviews', '14 reviews', '13 reviews', '11 reviews', '9 reviews', '8 reviews', '1 reviews', '14 reviews', '7 reviews', '12 reviews', '9 reviews', '8 reviews', '6 reviews', '7 reviews']\n"
     ]
    }
   ],
   "source": [
    "# BeautifulSoup findall() with Pandas\n",
    "import pandas as pd\n",
    "products = soup.find_all('a',class_='title')\n",
    "products_list = []\n",
    "for i in names:\n",
    "    product = i.text\n",
    "    products_list.append(name)\n",
    "print(products_list)\n",
    "prices = soup.find_all('h4',class_ = 'pull-right price')\n",
    "prices_list = []\n",
    "for i in prices:\n",
    "    price = i.text\n",
    "    prices_list.append(price)\n",
    "print(prices_list)\n",
    "desc = soup.find_all('p',class_ = 'description')\n",
    "description = []\n",
    "for i in desc:\n",
    "    des = i.text\n",
    "    description.append(des)\n",
    "print(description)\n",
    "reviews = soup.find_all('p',class_ = 'pull-right')\n",
    "reviews_list = []\n",
    "for i in reviews:\n",
    "    review = i.text\n",
    "    reviews_list.append(review)\n",
    "print(reviews_list)\n",
    "# Collecting all data and converting it into pandas dataframe\n",
    "df = pd.DataFrame({'Product Name':products_list,'Product Price':prices_list,'Product Description':description,'Product Review':reviews_list})"
   ]
  },
  {
   "cell_type": "code",
   "execution_count": 152,
   "id": "0928a52f",
   "metadata": {},
   "outputs": [
    {
     "data": {
      "text/html": [
       "<div>\n",
       "<style scoped>\n",
       "    .dataframe tbody tr th:only-of-type {\n",
       "        vertical-align: middle;\n",
       "    }\n",
       "\n",
       "    .dataframe tbody tr th {\n",
       "        vertical-align: top;\n",
       "    }\n",
       "\n",
       "    .dataframe thead th {\n",
       "        text-align: right;\n",
       "    }\n",
       "</style>\n",
       "<table border=\"1\" class=\"dataframe\">\n",
       "  <thead>\n",
       "    <tr style=\"text-align: right;\">\n",
       "      <th></th>\n",
       "      <th>Product Name</th>\n",
       "      <th>Product Price</th>\n",
       "      <th>Product Description</th>\n",
       "      <th>Product Review</th>\n",
       "    </tr>\n",
       "  </thead>\n",
       "  <tbody>\n",
       "    <tr>\n",
       "      <th>0</th>\n",
       "      <td>Apple iPad Air</td>\n",
       "      <td>$69.99</td>\n",
       "      <td>7\" screen, Android</td>\n",
       "      <td>7 reviews</td>\n",
       "    </tr>\n",
       "    <tr>\n",
       "      <th>1</th>\n",
       "      <td>Apple iPad Air</td>\n",
       "      <td>$88.99</td>\n",
       "      <td>Black, 7\" IPS, Quad-Core 1.2GHz, 8GB, Android 4.2</td>\n",
       "      <td>7 reviews</td>\n",
       "    </tr>\n",
       "    <tr>\n",
       "      <th>2</th>\n",
       "      <td>Apple iPad Air</td>\n",
       "      <td>$96.99</td>\n",
       "      <td>7\" screen, Android, 16GB</td>\n",
       "      <td>7 reviews</td>\n",
       "    </tr>\n",
       "    <tr>\n",
       "      <th>3</th>\n",
       "      <td>Apple iPad Air</td>\n",
       "      <td>$97.99</td>\n",
       "      <td>7\", 8GB, Wi-Fi, Android 4.2, White</td>\n",
       "      <td>2 reviews</td>\n",
       "    </tr>\n",
       "    <tr>\n",
       "      <th>4</th>\n",
       "      <td>Apple iPad Air</td>\n",
       "      <td>$99.99</td>\n",
       "      <td>Black, 7\", 1.6GHz Dual-Core, 8GB, Android 4.4</td>\n",
       "      <td>1 reviews</td>\n",
       "    </tr>\n",
       "  </tbody>\n",
       "</table>\n",
       "</div>"
      ],
      "text/plain": [
       "     Product Name Product Price  \\\n",
       "0  Apple iPad Air        $69.99   \n",
       "1  Apple iPad Air        $88.99   \n",
       "2  Apple iPad Air        $96.99   \n",
       "3  Apple iPad Air        $97.99   \n",
       "4  Apple iPad Air        $99.99   \n",
       "\n",
       "                                 Product Description Product Review  \n",
       "0                                 7\" screen, Android      7 reviews  \n",
       "1  Black, 7\" IPS, Quad-Core 1.2GHz, 8GB, Android 4.2      7 reviews  \n",
       "2                           7\" screen, Android, 16GB      7 reviews  \n",
       "3                 7\", 8GB, Wi-Fi, Android 4.2, White      2 reviews  \n",
       "4      Black, 7\", 1.6GHz Dual-Core, 8GB, Android 4.4      1 reviews  "
      ]
     },
     "execution_count": 152,
     "metadata": {},
     "output_type": "execute_result"
    }
   ],
   "source": [
    "df.head()"
   ]
  },
  {
   "cell_type": "code",
   "execution_count": 153,
   "id": "a1136c7f",
   "metadata": {},
   "outputs": [],
   "source": [
    "df.to_csv(\"Product_details.csv\")"
   ]
  },
  {
   "cell_type": "code",
   "execution_count": 167,
   "id": "d6e8b527",
   "metadata": {},
   "outputs": [
    {
     "name": "stdout",
     "output_type": "stream",
     "text": [
      "\n",
      "\n",
      "\t\t\t\t\tComputers\n",
      "\t\t\t\t\t\n",
      "\n",
      "\n",
      "\n",
      "\n",
      "\t\t\t\t\t\t\tTablets\n",
      "\t\t\t\t\t\t\n",
      "\n",
      "\n",
      "\n",
      "\t\t\t\t\t\t\tLaptops\n",
      "\t\t\t\t\t\t\n",
      "\n",
      "\n",
      "\n"
     ]
    }
   ],
   "source": [
    "# Getting Data From Nested tags\n",
    "navbar = soup.find_all('ul',class_ = 'nav',id = \"side-menu\")[0]\n",
    "text = navbar.find('li',class_ = \"active\")\n",
    "print(text.text)"
   ]
  },
  {
   "cell_type": "code",
   "execution_count": 248,
   "id": "e50c90aa",
   "metadata": {},
   "outputs": [
    {
     "name": "stdout",
     "output_type": "stream",
     "text": [
      "[8, 25, 8, 25, 8, 25, 8, 22, 8, 25, 8, 24, 7, 22, 8, 25, 8, 25, 8, 25]\n"
     ]
    },
    {
     "data": {
      "text/html": [
       "<div>\n",
       "<style scoped>\n",
       "    .dataframe tbody tr th:only-of-type {\n",
       "        vertical-align: middle;\n",
       "    }\n",
       "\n",
       "    .dataframe tbody tr th {\n",
       "        vertical-align: top;\n",
       "    }\n",
       "\n",
       "    .dataframe thead th {\n",
       "        text-align: right;\n",
       "    }\n",
       "</style>\n",
       "<table border=\"1\" class=\"dataframe\">\n",
       "  <thead>\n",
       "    <tr style=\"text-align: right;\">\n",
       "      <th></th>\n",
       "      <th>TOTAL PLAYERS</th>\n",
       "    </tr>\n",
       "  </thead>\n",
       "  <tbody>\n",
       "    <tr>\n",
       "      <th>0</th>\n",
       "      <td>8</td>\n",
       "    </tr>\n",
       "    <tr>\n",
       "      <th>1</th>\n",
       "      <td>25</td>\n",
       "    </tr>\n",
       "    <tr>\n",
       "      <th>2</th>\n",
       "      <td>8</td>\n",
       "    </tr>\n",
       "    <tr>\n",
       "      <th>3</th>\n",
       "      <td>25</td>\n",
       "    </tr>\n",
       "    <tr>\n",
       "      <th>4</th>\n",
       "      <td>8</td>\n",
       "    </tr>\n",
       "    <tr>\n",
       "      <th>5</th>\n",
       "      <td>25</td>\n",
       "    </tr>\n",
       "    <tr>\n",
       "      <th>6</th>\n",
       "      <td>8</td>\n",
       "    </tr>\n",
       "    <tr>\n",
       "      <th>7</th>\n",
       "      <td>22</td>\n",
       "    </tr>\n",
       "    <tr>\n",
       "      <th>8</th>\n",
       "      <td>8</td>\n",
       "    </tr>\n",
       "    <tr>\n",
       "      <th>9</th>\n",
       "      <td>25</td>\n",
       "    </tr>\n",
       "    <tr>\n",
       "      <th>10</th>\n",
       "      <td>8</td>\n",
       "    </tr>\n",
       "    <tr>\n",
       "      <th>11</th>\n",
       "      <td>24</td>\n",
       "    </tr>\n",
       "    <tr>\n",
       "      <th>12</th>\n",
       "      <td>7</td>\n",
       "    </tr>\n",
       "    <tr>\n",
       "      <th>13</th>\n",
       "      <td>22</td>\n",
       "    </tr>\n",
       "    <tr>\n",
       "      <th>14</th>\n",
       "      <td>8</td>\n",
       "    </tr>\n",
       "    <tr>\n",
       "      <th>15</th>\n",
       "      <td>25</td>\n",
       "    </tr>\n",
       "    <tr>\n",
       "      <th>16</th>\n",
       "      <td>8</td>\n",
       "    </tr>\n",
       "    <tr>\n",
       "      <th>17</th>\n",
       "      <td>25</td>\n",
       "    </tr>\n",
       "    <tr>\n",
       "      <th>18</th>\n",
       "      <td>8</td>\n",
       "    </tr>\n",
       "    <tr>\n",
       "      <th>19</th>\n",
       "      <td>25</td>\n",
       "    </tr>\n",
       "  </tbody>\n",
       "</table>\n",
       "</div>"
      ],
      "text/plain": [
       "    TOTAL PLAYERS\n",
       "0               8\n",
       "1              25\n",
       "2               8\n",
       "3              25\n",
       "4               8\n",
       "5              25\n",
       "6               8\n",
       "7              22\n",
       "8               8\n",
       "9              25\n",
       "10              8\n",
       "11             24\n",
       "12              7\n",
       "13             22\n",
       "14              8\n",
       "15             25\n",
       "16              8\n",
       "17             25\n",
       "18              8\n",
       "19             25"
      ]
     },
     "execution_count": 248,
     "metadata": {},
     "output_type": "execute_result"
    }
   ],
   "source": [
    "# Scrapping Data from TATA IPL auction \n",
    "url = \"https://www.iplt20.com/auction\"\n",
    "r = requests.get(url)\n",
    "r.status_code\n",
    "soup = BeautifulSoup(r.text,'lxml')\n",
    "table = soup.find('table',class_ = 'ih-td-tab auction-tbl')\n",
    "header = table.find_all('th')\n",
    "titles = []\n",
    "for i in header:\n",
    "    titles.append(i.text)\n",
    "# print(titles)\n",
    "total_players = []\n",
    "count_of_players = soup.find_all('span',class_ = 'fr-fund')\n",
    "for i in count_of_players:\n",
    "    total_players.append(i.text)\n",
    "count = []\n",
    "for i in total_players:\n",
    "    if(len(i)<=2):\n",
    "        count.append(int(i))\n",
    "print(count)\n",
    "df = pd.DataFrame({'TOTAL PLAYERS':count})\n",
    "df"
   ]
  },
  {
   "cell_type": "code",
   "execution_count": 254,
   "id": "c0632e42",
   "metadata": {},
   "outputs": [],
   "source": [
    "rows = table.find_all('tr')\n",
    "rows_list = []\n",
    "for i in rows:\n",
    "    rows_list.append(i.text)\n",
    "    data = i.find_all('td')\n",
    "    row = [tr.text for tr in data]\n",
    "    rows_list.append(row)\n",
    "rows_list = rows_list[2:]\n",
    "df['TEAM'] = rows_list"
   ]
  },
  {
   "cell_type": "code",
   "execution_count": 250,
   "id": "5adf1b0c",
   "metadata": {},
   "outputs": [
    {
     "data": {
      "text/html": [
       "<div>\n",
       "<style scoped>\n",
       "    .dataframe tbody tr th:only-of-type {\n",
       "        vertical-align: middle;\n",
       "    }\n",
       "\n",
       "    .dataframe tbody tr th {\n",
       "        vertical-align: top;\n",
       "    }\n",
       "\n",
       "    .dataframe thead th {\n",
       "        text-align: right;\n",
       "    }\n",
       "</style>\n",
       "<table border=\"1\" class=\"dataframe\">\n",
       "  <thead>\n",
       "    <tr style=\"text-align: right;\">\n",
       "      <th></th>\n",
       "      <th>TOTAL PLAYERS</th>\n",
       "      <th>TEAM</th>\n",
       "    </tr>\n",
       "  </thead>\n",
       "  <tbody>\n",
       "    <tr>\n",
       "      <th>0</th>\n",
       "      <td>8</td>\n",
       "      <td>\\n\\n\\n\\n\\n\\nChennai Super Kings\\n\\n\\n₹1,50,00,...</td>\n",
       "    </tr>\n",
       "    <tr>\n",
       "      <th>1</th>\n",
       "      <td>25</td>\n",
       "      <td>[\\n\\n\\n\\n\\nChennai Super Kings\\n\\n, ₹1,50,00,0...</td>\n",
       "    </tr>\n",
       "    <tr>\n",
       "      <th>2</th>\n",
       "      <td>8</td>\n",
       "      <td>\\n\\n\\n\\n\\n\\nDelhi Capitals\\n\\n\\n₹4,45,00,000\\n...</td>\n",
       "    </tr>\n",
       "    <tr>\n",
       "      <th>3</th>\n",
       "      <td>25</td>\n",
       "      <td>[\\n\\n\\n\\n\\nDelhi Capitals\\n\\n, ₹4,45,00,000, 8...</td>\n",
       "    </tr>\n",
       "    <tr>\n",
       "      <th>4</th>\n",
       "      <td>8</td>\n",
       "      <td>\\n\\n\\n\\n\\n\\nGujarat Titans\\n\\n\\n₹4,45,00,000\\n...</td>\n",
       "    </tr>\n",
       "  </tbody>\n",
       "</table>\n",
       "</div>"
      ],
      "text/plain": [
       "   TOTAL PLAYERS                                               TEAM\n",
       "0              8  \\n\\n\\n\\n\\n\\nChennai Super Kings\\n\\n\\n₹1,50,00,...\n",
       "1             25  [\\n\\n\\n\\n\\nChennai Super Kings\\n\\n, ₹1,50,00,0...\n",
       "2              8  \\n\\n\\n\\n\\n\\nDelhi Capitals\\n\\n\\n₹4,45,00,000\\n...\n",
       "3             25  [\\n\\n\\n\\n\\nDelhi Capitals\\n\\n, ₹4,45,00,000, 8...\n",
       "4              8  \\n\\n\\n\\n\\n\\nGujarat Titans\\n\\n\\n₹4,45,00,000\\n..."
      ]
     },
     "execution_count": 250,
     "metadata": {},
     "output_type": "execute_result"
    }
   ],
   "source": [
    "df.head()"
   ]
  },
  {
   "cell_type": "code",
   "execution_count": 251,
   "id": "33997c8a",
   "metadata": {},
   "outputs": [],
   "source": [
    "df.to_csv('auction_stats.csv')"
   ]
  },
  {
   "cell_type": "code",
   "execution_count": 277,
   "id": "8236ab00",
   "metadata": {},
   "outputs": [
    {
     "name": "stdout",
     "output_type": "stream",
     "text": [
      "<Response [200]>\n",
      "['4.6', '4.7', '4.7', '4.7', '4.7', '4.7', '4.6', '4.7', '4.6', '4.7', '4.6', '4.7', '4.6', '4.6', '4.7', '4.6', '4.7', '4.7', '4.7', '4.7', '4.6', '4.6', '4.7', '4.6']\n"
     ]
    }
   ],
   "source": [
    "url = 'https://www.flipkart.com/search?q=apples%20mobiles&otracker=search&otracker1=search&marketplace=FLIPKART&as-show=on&as=off'\n",
    "r = requests.get(url)\n",
    "print(r)\n",
    "soup = BeautifulSoup(r.text,'lxml')\n",
    "box = soup.find('div',class_ = \"_1YokD2 _3Mn1Gg\")\n",
    "names = box.find_all('div',class_ = \"_4rR01T\")\n",
    "# print(names)\n",
    "Names = []\n",
    "Prices = []\n",
    "Desc = []\n",
    "Reviews = []\n",
    "for i in names:\n",
    "    name = i.text\n",
    "    Names.append(name)\n",
    "# print(Names)\n",
    "prices = box.find_all('div',class_ = '_30jeq3 _1_WHN1')\n",
    "# print(prices)\n",
    "for i in prices:\n",
    "    price = i.text\n",
    "    Prices.append(price)\n",
    "# print(Prices)\n",
    "desc = box.find_all('ul',class_ = '_1xgFaf')\n",
    "for i in desc:\n",
    "    Desc.append(i.text)\n",
    "# print(Desc)\n",
    "reviews = box.find_all('div',class_ = '_3LWZlK')\n",
    "for i in reviews:\n",
    "    Reviews.append(i.text)\n",
    "print(Reviews)"
   ]
  },
  {
   "cell_type": "code",
   "execution_count": 278,
   "id": "8b7ab9c0",
   "metadata": {},
   "outputs": [
    {
     "name": "stdout",
     "output_type": "stream",
     "text": [
      "24\n",
      "24\n",
      "24\n",
      "24\n"
     ]
    }
   ],
   "source": [
    "print(len(Names))\n",
    "print(len(Prices))\n",
    "print(len(Desc))\n",
    "print(len(Reviews))"
   ]
  },
  {
   "cell_type": "code",
   "execution_count": 279,
   "id": "1ef4cd36",
   "metadata": {},
   "outputs": [],
   "source": [
    "\n",
    "df = pd.DataFrame({'Product Name':Names,'Product Price':Prices,'Product Description':Desc,'Product Review':Reviews})"
   ]
  },
  {
   "cell_type": "code",
   "execution_count": 280,
   "id": "e4d3dccc",
   "metadata": {},
   "outputs": [
    {
     "data": {
      "text/html": [
       "<div>\n",
       "<style scoped>\n",
       "    .dataframe tbody tr th:only-of-type {\n",
       "        vertical-align: middle;\n",
       "    }\n",
       "\n",
       "    .dataframe tbody tr th {\n",
       "        vertical-align: top;\n",
       "    }\n",
       "\n",
       "    .dataframe thead th {\n",
       "        text-align: right;\n",
       "    }\n",
       "</style>\n",
       "<table border=\"1\" class=\"dataframe\">\n",
       "  <thead>\n",
       "    <tr style=\"text-align: right;\">\n",
       "      <th></th>\n",
       "      <th>Product Name</th>\n",
       "      <th>Product Price</th>\n",
       "      <th>Product Description</th>\n",
       "      <th>Product Review</th>\n",
       "    </tr>\n",
       "  </thead>\n",
       "  <tbody>\n",
       "    <tr>\n",
       "      <th>0</th>\n",
       "      <td>APPLE iPhone 14 ((PRODUCT)RED, 128 GB)</td>\n",
       "      <td>₹69,999</td>\n",
       "      <td>128 GB ROM15.49 cm (6.1 inch) Super Retina XDR...</td>\n",
       "      <td>4.6</td>\n",
       "    </tr>\n",
       "    <tr>\n",
       "      <th>1</th>\n",
       "      <td>APPLE iPhone 13 (Blue, 128 GB)</td>\n",
       "      <td>₹62,999</td>\n",
       "      <td>128 GB ROM15.49 cm (6.1 inch) Super Retina XDR...</td>\n",
       "      <td>4.7</td>\n",
       "    </tr>\n",
       "    <tr>\n",
       "      <th>2</th>\n",
       "      <td>APPLE iPhone 13 (Starlight, 256 GB)</td>\n",
       "      <td>₹72,999</td>\n",
       "      <td>256 GB ROM15.49 cm (6.1 inch) Super Retina XDR...</td>\n",
       "      <td>4.7</td>\n",
       "    </tr>\n",
       "    <tr>\n",
       "      <th>3</th>\n",
       "      <td>APPLE iPhone 14 Plus (Purple, 128 GB)</td>\n",
       "      <td>₹80,999</td>\n",
       "      <td>128 GB ROM17.02 cm (6.7 inch) Super Retina XDR...</td>\n",
       "      <td>4.7</td>\n",
       "    </tr>\n",
       "    <tr>\n",
       "      <th>4</th>\n",
       "      <td>APPLE iPhone 13 (Midnight, 256 GB)</td>\n",
       "      <td>₹72,999</td>\n",
       "      <td>256 GB ROM15.49 cm (6.1 inch) Super Retina XDR...</td>\n",
       "      <td>4.7</td>\n",
       "    </tr>\n",
       "    <tr>\n",
       "      <th>5</th>\n",
       "      <td>APPLE iPhone 14 Pro (Space Black, 128 GB)</td>\n",
       "      <td>₹1,19,999</td>\n",
       "      <td>128 GB ROM15.49 cm (6.1 inch) Super Retina XDR...</td>\n",
       "      <td>4.7</td>\n",
       "    </tr>\n",
       "    <tr>\n",
       "      <th>6</th>\n",
       "      <td>APPLE iPhone 12 (Purple, 64 GB)</td>\n",
       "      <td>₹53,999</td>\n",
       "      <td>64 GB ROM15.49 cm (6.1 inch) Super Retina XDR ...</td>\n",
       "      <td>4.6</td>\n",
       "    </tr>\n",
       "    <tr>\n",
       "      <th>7</th>\n",
       "      <td>APPLE iPhone 13 Pro (Silver, 512 GB)</td>\n",
       "      <td>₹1,25,999</td>\n",
       "      <td>512 GB ROM15.49 cm (6.1 inch) Super Retina XDR...</td>\n",
       "      <td>4.7</td>\n",
       "    </tr>\n",
       "    <tr>\n",
       "      <th>8</th>\n",
       "      <td>APPLE iPhone 12 (Black, 64 GB)</td>\n",
       "      <td>₹53,999</td>\n",
       "      <td>64 GB ROM15.49 cm (6.1 inch) Super Retina XDR ...</td>\n",
       "      <td>4.6</td>\n",
       "    </tr>\n",
       "    <tr>\n",
       "      <th>9</th>\n",
       "      <td>APPLE iPhone 14 Plus (Yellow, 512 GB)</td>\n",
       "      <td>₹1,10,999</td>\n",
       "      <td>512 GB ROM17.02 cm (6.7 inch) Super Retina XDR...</td>\n",
       "      <td>4.7</td>\n",
       "    </tr>\n",
       "    <tr>\n",
       "      <th>10</th>\n",
       "      <td>APPLE iPhone 13 Pro Max (Alpine Green, 512 GB)</td>\n",
       "      <td>₹1,34,999</td>\n",
       "      <td>512 GB ROM17.02 cm (6.7 inch) Super Retina XDR...</td>\n",
       "      <td>4.6</td>\n",
       "    </tr>\n",
       "    <tr>\n",
       "      <th>11</th>\n",
       "      <td>APPLE iPhone 13 Pro (Graphite, 512 GB)</td>\n",
       "      <td>₹1,25,999</td>\n",
       "      <td>512 GB ROM15.49 cm (6.1 inch) Super Retina XDR...</td>\n",
       "      <td>4.7</td>\n",
       "    </tr>\n",
       "    <tr>\n",
       "      <th>12</th>\n",
       "      <td>APPLE iPhone 12 (Purple, 256 GB)</td>\n",
       "      <td>₹66,999</td>\n",
       "      <td>256 GB ROM15.49 cm (6.1 inch) Super Retina XDR...</td>\n",
       "      <td>4.6</td>\n",
       "    </tr>\n",
       "    <tr>\n",
       "      <th>13</th>\n",
       "      <td>APPLE iPhone 14 (Midnight, 512 GB)</td>\n",
       "      <td>₹1,01,999</td>\n",
       "      <td>512 GB ROM15.49 cm (6.1 inch) Super Retina XDR...</td>\n",
       "      <td>4.6</td>\n",
       "    </tr>\n",
       "    <tr>\n",
       "      <th>14</th>\n",
       "      <td>APPLE iPhone 13 Pro (Gold, 256 GB)</td>\n",
       "      <td>₹1,29,900</td>\n",
       "      <td>256 GB ROM15.49 cm (6.1 inch) Super Retina XDR...</td>\n",
       "      <td>4.7</td>\n",
       "    </tr>\n",
       "    <tr>\n",
       "      <th>15</th>\n",
       "      <td>APPLE iPhone 13 Pro Max (Graphite, 1 TB)</td>\n",
       "      <td>₹1,55,999</td>\n",
       "      <td>1 TB ROM17.02 cm (6.7 inch) Super Retina XDR D...</td>\n",
       "      <td>4.6</td>\n",
       "    </tr>\n",
       "    <tr>\n",
       "      <th>16</th>\n",
       "      <td>APPLE iPhone 13 Pro (Graphite, 256 GB)</td>\n",
       "      <td>₹1,29,900</td>\n",
       "      <td>256 GB ROM15.49 cm (6.1 inch) Super Retina XDR...</td>\n",
       "      <td>4.7</td>\n",
       "    </tr>\n",
       "    <tr>\n",
       "      <th>17</th>\n",
       "      <td>APPLE iPhone 14 Pro Max (Deep Purple, 128 GB)</td>\n",
       "      <td>₹1,27,999</td>\n",
       "      <td>128 GB ROM17.02 cm (6.7 inch) Super Retina XDR...</td>\n",
       "      <td>4.7</td>\n",
       "    </tr>\n",
       "    <tr>\n",
       "      <th>18</th>\n",
       "      <td>APPLE iPhone 13 Pro (Gold, 1 TB)</td>\n",
       "      <td>₹1,44,999</td>\n",
       "      <td>1 TB ROM15.49 cm (6.1 inch) Super Retina XDR D...</td>\n",
       "      <td>4.7</td>\n",
       "    </tr>\n",
       "    <tr>\n",
       "      <th>19</th>\n",
       "      <td>APPLE iPhone 13 Pro (Sierra Blue, 1 TB)</td>\n",
       "      <td>₹1,44,999</td>\n",
       "      <td>1 TB ROM15.49 cm (6.1 inch) Super Retina XDR D...</td>\n",
       "      <td>4.7</td>\n",
       "    </tr>\n",
       "    <tr>\n",
       "      <th>20</th>\n",
       "      <td>APPLE iPhone 14 (Starlight, 512 GB)</td>\n",
       "      <td>₹1,01,999</td>\n",
       "      <td>512 GB ROM15.49 cm (6.1 inch) Super Retina XDR...</td>\n",
       "      <td>4.6</td>\n",
       "    </tr>\n",
       "    <tr>\n",
       "      <th>21</th>\n",
       "      <td>APPLE iPhone 13 Pro Max (Silver, 512 GB)</td>\n",
       "      <td>₹1,34,999</td>\n",
       "      <td>512 GB ROM17.02 cm (6.7 inch) Super Retina XDR...</td>\n",
       "      <td>4.6</td>\n",
       "    </tr>\n",
       "    <tr>\n",
       "      <th>22</th>\n",
       "      <td>APPLE iPhone 13 (Starlight, 512 GB)</td>\n",
       "      <td>₹91,999</td>\n",
       "      <td>512 GB ROM15.49 cm (6.1 inch) Super Retina XDR...</td>\n",
       "      <td>4.7</td>\n",
       "    </tr>\n",
       "    <tr>\n",
       "      <th>23</th>\n",
       "      <td>APPLE iPhone 13 Pro Max (Sierra Blue, 1 TB)</td>\n",
       "      <td>₹1,55,999</td>\n",
       "      <td>1 TB ROM17.02 cm (6.7 inch) Super Retina XDR D...</td>\n",
       "      <td>4.6</td>\n",
       "    </tr>\n",
       "  </tbody>\n",
       "</table>\n",
       "</div>"
      ],
      "text/plain": [
       "                                      Product Name Product Price  \\\n",
       "0           APPLE iPhone 14 ((PRODUCT)RED, 128 GB)       ₹69,999   \n",
       "1                   APPLE iPhone 13 (Blue, 128 GB)       ₹62,999   \n",
       "2              APPLE iPhone 13 (Starlight, 256 GB)       ₹72,999   \n",
       "3            APPLE iPhone 14 Plus (Purple, 128 GB)       ₹80,999   \n",
       "4               APPLE iPhone 13 (Midnight, 256 GB)       ₹72,999   \n",
       "5        APPLE iPhone 14 Pro (Space Black, 128 GB)     ₹1,19,999   \n",
       "6                  APPLE iPhone 12 (Purple, 64 GB)       ₹53,999   \n",
       "7             APPLE iPhone 13 Pro (Silver, 512 GB)     ₹1,25,999   \n",
       "8                   APPLE iPhone 12 (Black, 64 GB)       ₹53,999   \n",
       "9            APPLE iPhone 14 Plus (Yellow, 512 GB)     ₹1,10,999   \n",
       "10  APPLE iPhone 13 Pro Max (Alpine Green, 512 GB)     ₹1,34,999   \n",
       "11          APPLE iPhone 13 Pro (Graphite, 512 GB)     ₹1,25,999   \n",
       "12                APPLE iPhone 12 (Purple, 256 GB)       ₹66,999   \n",
       "13              APPLE iPhone 14 (Midnight, 512 GB)     ₹1,01,999   \n",
       "14              APPLE iPhone 13 Pro (Gold, 256 GB)     ₹1,29,900   \n",
       "15        APPLE iPhone 13 Pro Max (Graphite, 1 TB)     ₹1,55,999   \n",
       "16          APPLE iPhone 13 Pro (Graphite, 256 GB)     ₹1,29,900   \n",
       "17   APPLE iPhone 14 Pro Max (Deep Purple, 128 GB)     ₹1,27,999   \n",
       "18                APPLE iPhone 13 Pro (Gold, 1 TB)     ₹1,44,999   \n",
       "19         APPLE iPhone 13 Pro (Sierra Blue, 1 TB)     ₹1,44,999   \n",
       "20             APPLE iPhone 14 (Starlight, 512 GB)     ₹1,01,999   \n",
       "21        APPLE iPhone 13 Pro Max (Silver, 512 GB)     ₹1,34,999   \n",
       "22             APPLE iPhone 13 (Starlight, 512 GB)       ₹91,999   \n",
       "23     APPLE iPhone 13 Pro Max (Sierra Blue, 1 TB)     ₹1,55,999   \n",
       "\n",
       "                                  Product Description Product Review  \n",
       "0   128 GB ROM15.49 cm (6.1 inch) Super Retina XDR...            4.6  \n",
       "1   128 GB ROM15.49 cm (6.1 inch) Super Retina XDR...            4.7  \n",
       "2   256 GB ROM15.49 cm (6.1 inch) Super Retina XDR...            4.7  \n",
       "3   128 GB ROM17.02 cm (6.7 inch) Super Retina XDR...            4.7  \n",
       "4   256 GB ROM15.49 cm (6.1 inch) Super Retina XDR...            4.7  \n",
       "5   128 GB ROM15.49 cm (6.1 inch) Super Retina XDR...            4.7  \n",
       "6   64 GB ROM15.49 cm (6.1 inch) Super Retina XDR ...            4.6  \n",
       "7   512 GB ROM15.49 cm (6.1 inch) Super Retina XDR...            4.7  \n",
       "8   64 GB ROM15.49 cm (6.1 inch) Super Retina XDR ...            4.6  \n",
       "9   512 GB ROM17.02 cm (6.7 inch) Super Retina XDR...            4.7  \n",
       "10  512 GB ROM17.02 cm (6.7 inch) Super Retina XDR...            4.6  \n",
       "11  512 GB ROM15.49 cm (6.1 inch) Super Retina XDR...            4.7  \n",
       "12  256 GB ROM15.49 cm (6.1 inch) Super Retina XDR...            4.6  \n",
       "13  512 GB ROM15.49 cm (6.1 inch) Super Retina XDR...            4.6  \n",
       "14  256 GB ROM15.49 cm (6.1 inch) Super Retina XDR...            4.7  \n",
       "15  1 TB ROM17.02 cm (6.7 inch) Super Retina XDR D...            4.6  \n",
       "16  256 GB ROM15.49 cm (6.1 inch) Super Retina XDR...            4.7  \n",
       "17  128 GB ROM17.02 cm (6.7 inch) Super Retina XDR...            4.7  \n",
       "18  1 TB ROM15.49 cm (6.1 inch) Super Retina XDR D...            4.7  \n",
       "19  1 TB ROM15.49 cm (6.1 inch) Super Retina XDR D...            4.7  \n",
       "20  512 GB ROM15.49 cm (6.1 inch) Super Retina XDR...            4.6  \n",
       "21  512 GB ROM17.02 cm (6.7 inch) Super Retina XDR...            4.6  \n",
       "22  512 GB ROM15.49 cm (6.1 inch) Super Retina XDR...            4.7  \n",
       "23  1 TB ROM17.02 cm (6.7 inch) Super Retina XDR D...            4.6  "
      ]
     },
     "execution_count": 280,
     "metadata": {},
     "output_type": "execute_result"
    }
   ],
   "source": [
    "df"
   ]
  },
  {
   "cell_type": "code",
   "execution_count": 281,
   "id": "d11a4bc8",
   "metadata": {},
   "outputs": [],
   "source": [
    "df.to_csv(\"flipkart_apples_mobiles.csv\")"
   ]
  },
  {
   "cell_type": "markdown",
   "id": "ba78545e",
   "metadata": {},
   "source": [
    "## Selenium Installation"
   ]
  },
  {
   "cell_type": "code",
   "execution_count": 287,
   "id": "38211eda",
   "metadata": {},
   "outputs": [],
   "source": [
    "# Selenium is a powerful tool for controlling web browsers through programs and performing browser communications.It supports Cross Browsing.\n",
    "# It is functional for all browsers, works on all major Operating Systems and its scripts are written in various languages i.e Python, Java, C#,etc.\n"
   ]
  },
  {
   "cell_type": "code",
   "execution_count": 291,
   "id": "5bc756f8",
   "metadata": {},
   "outputs": [
    {
     "name": "stdout",
     "output_type": "stream",
     "text": [
      "Requirement already satisfied: selenium in c:\\users\\codet\\anaconda3\\lib\\site-packages (4.9.1)\n",
      "Requirement already satisfied: certifi>=2021.10.8 in c:\\users\\codet\\anaconda3\\lib\\site-packages (from selenium) (2021.10.8)\n",
      "Requirement already satisfied: trio~=0.17 in c:\\users\\codet\\anaconda3\\lib\\site-packages (from selenium) (0.22.0)\n",
      "Requirement already satisfied: trio-websocket~=0.9 in c:\\users\\codet\\anaconda3\\lib\\site-packages (from selenium) (0.10.2)\n",
      "Requirement already satisfied: urllib3[socks]<3,>=1.26 in c:\\users\\codet\\anaconda3\\lib\\site-packages (from selenium) (1.26.9)\n",
      "Requirement already satisfied: async-generator>=1.9 in c:\\users\\codet\\anaconda3\\lib\\site-packages (from trio~=0.17->selenium) (1.10)\n",
      "Requirement already satisfied: sniffio in c:\\users\\codet\\anaconda3\\lib\\site-packages (from trio~=0.17->selenium) (1.2.0)\n",
      "Requirement already satisfied: sortedcontainers in c:\\users\\codet\\anaconda3\\lib\\site-packages (from trio~=0.17->selenium) (2.4.0)\n",
      "Requirement already satisfied: idna in c:\\users\\codet\\anaconda3\\lib\\site-packages (from trio~=0.17->selenium) (3.3)\n",
      "Requirement already satisfied: attrs>=19.2.0 in c:\\users\\codet\\anaconda3\\lib\\site-packages (from trio~=0.17->selenium) (21.4.0)\n",
      "Requirement already satisfied: exceptiongroup>=1.0.0rc9 in c:\\users\\codet\\anaconda3\\lib\\site-packages (from trio~=0.17->selenium) (1.1.1)\n",
      "Requirement already satisfied: outcome in c:\\users\\codet\\anaconda3\\lib\\site-packages (from trio~=0.17->selenium) (1.2.0)\n",
      "Requirement already satisfied: cffi>=1.14 in c:\\users\\codet\\anaconda3\\lib\\site-packages (from trio~=0.17->selenium) (1.15.0)\n",
      "Requirement already satisfied: pycparser in c:\\users\\codet\\anaconda3\\lib\\site-packages (from cffi>=1.14->trio~=0.17->selenium) (2.21)\n",
      "Requirement already satisfied: wsproto>=0.14 in c:\\users\\codet\\anaconda3\\lib\\site-packages (from trio-websocket~=0.9->selenium) (1.2.0)\n",
      "Requirement already satisfied: PySocks!=1.5.7,<2.0,>=1.5.6 in c:\\users\\codet\\anaconda3\\lib\\site-packages (from urllib3[socks]<3,>=1.26->selenium) (1.7.1)\n",
      "Requirement already satisfied: h11<1,>=0.9.0 in c:\\users\\codet\\anaconda3\\lib\\site-packages (from wsproto>=0.14->trio-websocket~=0.9->selenium) (0.14.0)\n"
     ]
    }
   ],
   "source": [
    "!pip install selenium"
   ]
  },
  {
   "cell_type": "code",
   "execution_count": 292,
   "id": "abf38a5c",
   "metadata": {},
   "outputs": [],
   "source": [
    "import selenium"
   ]
  },
  {
   "cell_type": "code",
   "execution_count": 301,
   "id": "b2f1651d",
   "metadata": {},
   "outputs": [
    {
     "ename": "WebDriverException",
     "evalue": "Message: unknown error: no chrome binary at \"C:/Program Files/BraveSoftware/Brave-Browser/Application/Brave\"\nStacktrace:\nBacktrace:\n\tGetHandleVerifier [0x011C6E73+48323]\n\t(No symbol) [0x01159661]\n\t(No symbol) [0x01065308]\n\t(No symbol) [0x01081BD3]\n\t(No symbol) [0x01080719]\n\t(No symbol) [0x010B0DF5]\n\t(No symbol) [0x010B0ADC]\n\t(No symbol) [0x010AA6D6]\n\t(No symbol) [0x0108847C]\n\t(No symbol) [0x0108957D]\n\tGetHandleVerifier [0x0142FD5D+2575277]\n\tGetHandleVerifier [0x0146F86E+2836158]\n\tGetHandleVerifier [0x014696DC+2811180]\n\tGetHandleVerifier [0x012541B0+626688]\n\t(No symbol) [0x0116314C]\n\t(No symbol) [0x0115F4B8]\n\t(No symbol) [0x0115F59B]\n\t(No symbol) [0x011521B7]\n\tBaseThreadInitThunk [0x75300099+25]\n\tRtlGetAppContainerNamedObjectPath [0x76EF7B6E+286]\n\tRtlGetAppContainerNamedObjectPath [0x76EF7B3E+238]\n",
     "output_type": "error",
     "traceback": [
      "\u001b[1;31m---------------------------------------------------------------------------\u001b[0m",
      "\u001b[1;31mWebDriverException\u001b[0m                        Traceback (most recent call last)",
      "Input \u001b[1;32mIn [301]\u001b[0m, in \u001b[0;36m<cell line: 8>\u001b[1;34m()\u001b[0m\n\u001b[0;32m      5\u001b[0m options\u001b[38;5;241m.\u001b[39mbinary_location \u001b[38;5;241m=\u001b[39m \u001b[38;5;124m'\u001b[39m\u001b[38;5;124m\"\u001b[39m\u001b[38;5;124mC:/Program Files/BraveSoftware/Brave-Browser/Application/Brave\u001b[39m\u001b[38;5;124m\"\u001b[39m\u001b[38;5;124m'\u001b[39m\n\u001b[0;32m      6\u001b[0m options\u001b[38;5;241m.\u001b[39madd_argument(\u001b[38;5;124m'\u001b[39m\u001b[38;5;124m--start-maximized\u001b[39m\u001b[38;5;124m'\u001b[39m) \n\u001b[1;32m----> 8\u001b[0m driver \u001b[38;5;241m=\u001b[39m \u001b[43mwebdriver\u001b[49m\u001b[38;5;241;43m.\u001b[39;49m\u001b[43mChrome\u001b[49m\u001b[43m(\u001b[49m\u001b[43mservice\u001b[49m\u001b[38;5;241;43m=\u001b[39;49m\u001b[43mService\u001b[49m\u001b[43m(\u001b[49m\u001b[43mbrave_path\u001b[49m\u001b[43m)\u001b[49m\u001b[43m,\u001b[49m\u001b[43m \u001b[49m\u001b[43moptions\u001b[49m\u001b[38;5;241;43m=\u001b[39;49m\u001b[43moptions\u001b[49m\u001b[43m)\u001b[49m\n\u001b[0;32m     10\u001b[0m driver \u001b[38;5;241m=\u001b[39m webdriver\u001b[38;5;241m.\u001b[39mBrave(service \u001b[38;5;241m=\u001b[39m s)\n\u001b[0;32m     11\u001b[0m driver\u001b[38;5;241m.\u001b[39mget(\u001b[38;5;124m\"\u001b[39m\u001b[38;5;124mhttps://www.wscubetech.com/\u001b[39m\u001b[38;5;124m\"\u001b[39m)\n",
      "File \u001b[1;32m~\\anaconda3\\lib\\site-packages\\selenium\\webdriver\\chrome\\webdriver.py:84\u001b[0m, in \u001b[0;36mWebDriver.__init__\u001b[1;34m(self, executable_path, port, options, service_args, desired_capabilities, service_log_path, chrome_options, service, keep_alive)\u001b[0m\n\u001b[0;32m     81\u001b[0m     service \u001b[38;5;241m=\u001b[39m Service(executable_path, port, service_args, service_log_path)\n\u001b[0;32m     82\u001b[0m service\u001b[38;5;241m.\u001b[39mpath \u001b[38;5;241m=\u001b[39m DriverFinder\u001b[38;5;241m.\u001b[39mget_path(service, options)\n\u001b[1;32m---> 84\u001b[0m \u001b[38;5;28;43msuper\u001b[39;49m\u001b[43m(\u001b[49m\u001b[43m)\u001b[49m\u001b[38;5;241;43m.\u001b[39;49m\u001b[38;5;21;43m__init__\u001b[39;49m\u001b[43m(\u001b[49m\n\u001b[0;32m     85\u001b[0m \u001b[43m    \u001b[49m\u001b[43mDesiredCapabilities\u001b[49m\u001b[38;5;241;43m.\u001b[39;49m\u001b[43mCHROME\u001b[49m\u001b[43m[\u001b[49m\u001b[38;5;124;43m\"\u001b[39;49m\u001b[38;5;124;43mbrowserName\u001b[39;49m\u001b[38;5;124;43m\"\u001b[39;49m\u001b[43m]\u001b[49m\u001b[43m,\u001b[49m\n\u001b[0;32m     86\u001b[0m \u001b[43m    \u001b[49m\u001b[38;5;124;43m\"\u001b[39;49m\u001b[38;5;124;43mgoog\u001b[39;49m\u001b[38;5;124;43m\"\u001b[39;49m\u001b[43m,\u001b[49m\n\u001b[0;32m     87\u001b[0m \u001b[43m    \u001b[49m\u001b[43mport\u001b[49m\u001b[43m,\u001b[49m\n\u001b[0;32m     88\u001b[0m \u001b[43m    \u001b[49m\u001b[43moptions\u001b[49m\u001b[43m,\u001b[49m\n\u001b[0;32m     89\u001b[0m \u001b[43m    \u001b[49m\u001b[43mservice_args\u001b[49m\u001b[43m,\u001b[49m\n\u001b[0;32m     90\u001b[0m \u001b[43m    \u001b[49m\u001b[43mdesired_capabilities\u001b[49m\u001b[43m,\u001b[49m\n\u001b[0;32m     91\u001b[0m \u001b[43m    \u001b[49m\u001b[43mservice_log_path\u001b[49m\u001b[43m,\u001b[49m\n\u001b[0;32m     92\u001b[0m \u001b[43m    \u001b[49m\u001b[43mservice\u001b[49m\u001b[43m,\u001b[49m\n\u001b[0;32m     93\u001b[0m \u001b[43m    \u001b[49m\u001b[43mkeep_alive\u001b[49m\u001b[43m,\u001b[49m\n\u001b[0;32m     94\u001b[0m \u001b[43m\u001b[49m\u001b[43m)\u001b[49m\n",
      "File \u001b[1;32m~\\anaconda3\\lib\\site-packages\\selenium\\webdriver\\chromium\\webdriver.py:104\u001b[0m, in \u001b[0;36mChromiumDriver.__init__\u001b[1;34m(self, browser_name, vendor_prefix, port, options, service_args, desired_capabilities, service_log_path, service, keep_alive)\u001b[0m\n\u001b[0;32m    101\u001b[0m \u001b[38;5;28mself\u001b[39m\u001b[38;5;241m.\u001b[39mservice\u001b[38;5;241m.\u001b[39mstart()\n\u001b[0;32m    103\u001b[0m \u001b[38;5;28;01mtry\u001b[39;00m:\n\u001b[1;32m--> 104\u001b[0m     \u001b[38;5;28;43msuper\u001b[39;49m\u001b[43m(\u001b[49m\u001b[43m)\u001b[49m\u001b[38;5;241;43m.\u001b[39;49m\u001b[38;5;21;43m__init__\u001b[39;49m\u001b[43m(\u001b[49m\n\u001b[0;32m    105\u001b[0m \u001b[43m        \u001b[49m\u001b[43mcommand_executor\u001b[49m\u001b[38;5;241;43m=\u001b[39;49m\u001b[43mChromiumRemoteConnection\u001b[49m\u001b[43m(\u001b[49m\n\u001b[0;32m    106\u001b[0m \u001b[43m            \u001b[49m\u001b[43mremote_server_addr\u001b[49m\u001b[38;5;241;43m=\u001b[39;49m\u001b[38;5;28;43mself\u001b[39;49m\u001b[38;5;241;43m.\u001b[39;49m\u001b[43mservice\u001b[49m\u001b[38;5;241;43m.\u001b[39;49m\u001b[43mservice_url\u001b[49m\u001b[43m,\u001b[49m\n\u001b[0;32m    107\u001b[0m \u001b[43m            \u001b[49m\u001b[43mbrowser_name\u001b[49m\u001b[38;5;241;43m=\u001b[39;49m\u001b[43mbrowser_name\u001b[49m\u001b[43m,\u001b[49m\n\u001b[0;32m    108\u001b[0m \u001b[43m            \u001b[49m\u001b[43mvendor_prefix\u001b[49m\u001b[38;5;241;43m=\u001b[39;49m\u001b[43mvendor_prefix\u001b[49m\u001b[43m,\u001b[49m\n\u001b[0;32m    109\u001b[0m \u001b[43m            \u001b[49m\u001b[43mkeep_alive\u001b[49m\u001b[38;5;241;43m=\u001b[39;49m\u001b[43mkeep_alive\u001b[49m\u001b[43m,\u001b[49m\n\u001b[0;32m    110\u001b[0m \u001b[43m            \u001b[49m\u001b[43mignore_proxy\u001b[49m\u001b[38;5;241;43m=\u001b[39;49m\u001b[43m_ignore_proxy\u001b[49m\u001b[43m,\u001b[49m\n\u001b[0;32m    111\u001b[0m \u001b[43m        \u001b[49m\u001b[43m)\u001b[49m\u001b[43m,\u001b[49m\n\u001b[0;32m    112\u001b[0m \u001b[43m        \u001b[49m\u001b[43moptions\u001b[49m\u001b[38;5;241;43m=\u001b[39;49m\u001b[43moptions\u001b[49m\u001b[43m,\u001b[49m\n\u001b[0;32m    113\u001b[0m \u001b[43m    \u001b[49m\u001b[43m)\u001b[49m\n\u001b[0;32m    114\u001b[0m \u001b[38;5;28;01mexcept\u001b[39;00m \u001b[38;5;167;01mException\u001b[39;00m:\n\u001b[0;32m    115\u001b[0m     \u001b[38;5;28mself\u001b[39m\u001b[38;5;241m.\u001b[39mquit()\n",
      "File \u001b[1;32m~\\anaconda3\\lib\\site-packages\\selenium\\webdriver\\remote\\webdriver.py:286\u001b[0m, in \u001b[0;36mWebDriver.__init__\u001b[1;34m(self, command_executor, desired_capabilities, browser_profile, proxy, keep_alive, file_detector, options)\u001b[0m\n\u001b[0;32m    284\u001b[0m \u001b[38;5;28mself\u001b[39m\u001b[38;5;241m.\u001b[39m_authenticator_id \u001b[38;5;241m=\u001b[39m \u001b[38;5;28;01mNone\u001b[39;00m\n\u001b[0;32m    285\u001b[0m \u001b[38;5;28mself\u001b[39m\u001b[38;5;241m.\u001b[39mstart_client()\n\u001b[1;32m--> 286\u001b[0m \u001b[38;5;28;43mself\u001b[39;49m\u001b[38;5;241;43m.\u001b[39;49m\u001b[43mstart_session\u001b[49m\u001b[43m(\u001b[49m\u001b[43mcapabilities\u001b[49m\u001b[43m,\u001b[49m\u001b[43m \u001b[49m\u001b[43mbrowser_profile\u001b[49m\u001b[43m)\u001b[49m\n",
      "File \u001b[1;32m~\\anaconda3\\lib\\site-packages\\selenium\\webdriver\\remote\\webdriver.py:378\u001b[0m, in \u001b[0;36mWebDriver.start_session\u001b[1;34m(self, capabilities, browser_profile)\u001b[0m\n\u001b[0;32m    376\u001b[0m w3c_caps \u001b[38;5;241m=\u001b[39m _make_w3c_caps(capabilities)\n\u001b[0;32m    377\u001b[0m parameters \u001b[38;5;241m=\u001b[39m {\u001b[38;5;124m\"\u001b[39m\u001b[38;5;124mcapabilities\u001b[39m\u001b[38;5;124m\"\u001b[39m: w3c_caps}\n\u001b[1;32m--> 378\u001b[0m response \u001b[38;5;241m=\u001b[39m \u001b[38;5;28;43mself\u001b[39;49m\u001b[38;5;241;43m.\u001b[39;49m\u001b[43mexecute\u001b[49m\u001b[43m(\u001b[49m\u001b[43mCommand\u001b[49m\u001b[38;5;241;43m.\u001b[39;49m\u001b[43mNEW_SESSION\u001b[49m\u001b[43m,\u001b[49m\u001b[43m \u001b[49m\u001b[43mparameters\u001b[49m\u001b[43m)\u001b[49m\n\u001b[0;32m    379\u001b[0m \u001b[38;5;28;01mif\u001b[39;00m \u001b[38;5;124m\"\u001b[39m\u001b[38;5;124msessionId\u001b[39m\u001b[38;5;124m\"\u001b[39m \u001b[38;5;129;01mnot\u001b[39;00m \u001b[38;5;129;01min\u001b[39;00m response:\n\u001b[0;32m    380\u001b[0m     response \u001b[38;5;241m=\u001b[39m response[\u001b[38;5;124m\"\u001b[39m\u001b[38;5;124mvalue\u001b[39m\u001b[38;5;124m\"\u001b[39m]\n",
      "File \u001b[1;32m~\\anaconda3\\lib\\site-packages\\selenium\\webdriver\\remote\\webdriver.py:440\u001b[0m, in \u001b[0;36mWebDriver.execute\u001b[1;34m(self, driver_command, params)\u001b[0m\n\u001b[0;32m    438\u001b[0m response \u001b[38;5;241m=\u001b[39m \u001b[38;5;28mself\u001b[39m\u001b[38;5;241m.\u001b[39mcommand_executor\u001b[38;5;241m.\u001b[39mexecute(driver_command, params)\n\u001b[0;32m    439\u001b[0m \u001b[38;5;28;01mif\u001b[39;00m response:\n\u001b[1;32m--> 440\u001b[0m     \u001b[38;5;28;43mself\u001b[39;49m\u001b[38;5;241;43m.\u001b[39;49m\u001b[43merror_handler\u001b[49m\u001b[38;5;241;43m.\u001b[39;49m\u001b[43mcheck_response\u001b[49m\u001b[43m(\u001b[49m\u001b[43mresponse\u001b[49m\u001b[43m)\u001b[49m\n\u001b[0;32m    441\u001b[0m     response[\u001b[38;5;124m\"\u001b[39m\u001b[38;5;124mvalue\u001b[39m\u001b[38;5;124m\"\u001b[39m] \u001b[38;5;241m=\u001b[39m \u001b[38;5;28mself\u001b[39m\u001b[38;5;241m.\u001b[39m_unwrap_value(response\u001b[38;5;241m.\u001b[39mget(\u001b[38;5;124m\"\u001b[39m\u001b[38;5;124mvalue\u001b[39m\u001b[38;5;124m\"\u001b[39m, \u001b[38;5;28;01mNone\u001b[39;00m))\n\u001b[0;32m    442\u001b[0m     \u001b[38;5;28;01mreturn\u001b[39;00m response\n",
      "File \u001b[1;32m~\\anaconda3\\lib\\site-packages\\selenium\\webdriver\\remote\\errorhandler.py:245\u001b[0m, in \u001b[0;36mErrorHandler.check_response\u001b[1;34m(self, response)\u001b[0m\n\u001b[0;32m    243\u001b[0m         alert_text \u001b[38;5;241m=\u001b[39m value[\u001b[38;5;124m\"\u001b[39m\u001b[38;5;124malert\u001b[39m\u001b[38;5;124m\"\u001b[39m]\u001b[38;5;241m.\u001b[39mget(\u001b[38;5;124m\"\u001b[39m\u001b[38;5;124mtext\u001b[39m\u001b[38;5;124m\"\u001b[39m)\n\u001b[0;32m    244\u001b[0m     \u001b[38;5;28;01mraise\u001b[39;00m exception_class(message, screen, stacktrace, alert_text)  \u001b[38;5;66;03m# type: ignore[call-arg]  # mypy is not smart enough here\u001b[39;00m\n\u001b[1;32m--> 245\u001b[0m \u001b[38;5;28;01mraise\u001b[39;00m exception_class(message, screen, stacktrace)\n",
      "\u001b[1;31mWebDriverException\u001b[0m: Message: unknown error: no chrome binary at \"C:/Program Files/BraveSoftware/Brave-Browser/Application/Brave\"\nStacktrace:\nBacktrace:\n\tGetHandleVerifier [0x011C6E73+48323]\n\t(No symbol) [0x01159661]\n\t(No symbol) [0x01065308]\n\t(No symbol) [0x01081BD3]\n\t(No symbol) [0x01080719]\n\t(No symbol) [0x010B0DF5]\n\t(No symbol) [0x010B0ADC]\n\t(No symbol) [0x010AA6D6]\n\t(No symbol) [0x0108847C]\n\t(No symbol) [0x0108957D]\n\tGetHandleVerifier [0x0142FD5D+2575277]\n\tGetHandleVerifier [0x0146F86E+2836158]\n\tGetHandleVerifier [0x014696DC+2811180]\n\tGetHandleVerifier [0x012541B0+626688]\n\t(No symbol) [0x0116314C]\n\t(No symbol) [0x0115F4B8]\n\t(No symbol) [0x0115F59B]\n\t(No symbol) [0x011521B7]\n\tBaseThreadInitThunk [0x75300099+25]\n\tRtlGetAppContainerNamedObjectPath [0x76EF7B6E+286]\n\tRtlGetAppContainerNamedObjectPath [0x76EF7B3E+238]\n"
     ]
    }
   ],
   "source": [
    "from selenium import webdriver\n",
    "from selenium.webdriver.chrome.service import Service\n",
    "brave_path = 'C:/Users/codet/Downloads/chromedriver_win32/chromedriver.exe'\n",
    "options = webdriver.ChromeOptions()\n",
    "options.binary_location = '\"C:/Program Files/BraveSoftware/Brave-Browser/Application/Brave\"'\n",
    "options.add_argument('--start-maximized') \n",
    "\n",
    "driver = webdriver.Chrome(service=Service(brave_path), options=options)\n",
    "\n",
    "driver = webdriver.Brave(service = s)\n",
    "driver.get(\"https://www.wscubetech.com/\")\n",
    "path = driver.find_element_by_xpath(\"\"\"/html/body/section[1]/div/div/div[2]/img\"\"\")\n",
    "driver.quit()"
   ]
  },
  {
   "cell_type": "code",
   "execution_count": null,
   "id": "2e29c56b",
   "metadata": {},
   "outputs": [],
   "source": []
  }
 ],
 "metadata": {
  "kernelspec": {
   "display_name": "Python 3 (ipykernel)",
   "language": "python",
   "name": "python3"
  },
  "language_info": {
   "codemirror_mode": {
    "name": "ipython",
    "version": 3
   },
   "file_extension": ".py",
   "mimetype": "text/x-python",
   "name": "python",
   "nbconvert_exporter": "python",
   "pygments_lexer": "ipython3",
   "version": "3.9.12"
  }
 },
 "nbformat": 4,
 "nbformat_minor": 5
}
