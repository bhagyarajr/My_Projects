{
 "cells": [
  {
   "cell_type": "markdown",
   "id": "de209eb9",
   "metadata": {},
   "source": [
    "## Student Performance Indicator"
   ]
  },
  {
   "cell_type": "raw",
   "id": "39a0760e",
   "metadata": {},
   "source": [
    " -> Understanding the Problem Statement \n",
    " -> Data Collection\n",
    " -> Data Checks to perform\n",
    " -> Exploratory data analysis\n",
    " -> Data Pre-Processing\n",
    " -> Model Training\n",
    " -> Choose Best Model\n",
    " -> Deployment of Model"
   ]
  },
  {
   "cell_type": "markdown",
   "id": "4c9a638f",
   "metadata": {},
   "source": [
    "## Problem Statement \n",
    "This project understands how student's performance  (test scores) is affected by other variables such as Gender, Ethincity.Parental level of education, Lunch ans test level preparation"
   ]
  },
  {
   "cell_type": "markdown",
   "id": "8cdc2260",
   "metadata": {},
   "source": [
    "## Importing Required Dependencies"
   ]
  },
  {
   "cell_type": "code",
   "execution_count": 57,
   "id": "29d0cf8d",
   "metadata": {},
   "outputs": [],
   "source": [
    "import numpy as np\n",
    "import pandas as pd\n",
    "import matplotlib.pyplot as plt\n",
    "import warnings \n",
    "warnings.filterwarnings('ignore')\n",
    "import seaborn as sns\n",
    "%matplotlib inline\n",
    "from sklearn.neighbors import KNeighborsRegressor\n",
    "from sklearn.tree import DecisionTreeRegressor\n",
    "from sklearn.ensemble import RandomForestRegressor,AdaBoostRegressor\n",
    "from sklearn.preprocessing import*\n",
    "from sklearn.linear_model import LinearRegression,Ridge,Lasso\n",
    "from sklearn.model_selection import train_test_split,RandomizedSearchCV\n",
    "from sklearn.metrics import* \n",
    "from xgboost import XGBRegressor\n"
   ]
  },
  {
   "cell_type": "markdown",
   "id": "35625229",
   "metadata": {},
   "source": [
    "## Import the CSV data as Pandas DataFrame"
   ]
  },
  {
   "cell_type": "code",
   "execution_count": 6,
   "id": "d10818bf",
   "metadata": {},
   "outputs": [],
   "source": [
    "df = pd.read_csv(\"StudentsPerformance.csv\")"
   ]
  },
  {
   "cell_type": "code",
   "execution_count": 8,
   "id": "df1edf59",
   "metadata": {},
   "outputs": [
    {
     "data": {
      "text/html": [
       "<div>\n",
       "<style scoped>\n",
       "    .dataframe tbody tr th:only-of-type {\n",
       "        vertical-align: middle;\n",
       "    }\n",
       "\n",
       "    .dataframe tbody tr th {\n",
       "        vertical-align: top;\n",
       "    }\n",
       "\n",
       "    .dataframe thead th {\n",
       "        text-align: right;\n",
       "    }\n",
       "</style>\n",
       "<table border=\"1\" class=\"dataframe\">\n",
       "  <thead>\n",
       "    <tr style=\"text-align: right;\">\n",
       "      <th></th>\n",
       "      <th>gender</th>\n",
       "      <th>race/ethnicity</th>\n",
       "      <th>parental level of education</th>\n",
       "      <th>lunch</th>\n",
       "      <th>test preparation course</th>\n",
       "      <th>math score</th>\n",
       "      <th>reading score</th>\n",
       "      <th>writing score</th>\n",
       "    </tr>\n",
       "  </thead>\n",
       "  <tbody>\n",
       "    <tr>\n",
       "      <th>0</th>\n",
       "      <td>female</td>\n",
       "      <td>group B</td>\n",
       "      <td>bachelor's degree</td>\n",
       "      <td>standard</td>\n",
       "      <td>none</td>\n",
       "      <td>72</td>\n",
       "      <td>72</td>\n",
       "      <td>74</td>\n",
       "    </tr>\n",
       "    <tr>\n",
       "      <th>1</th>\n",
       "      <td>female</td>\n",
       "      <td>group C</td>\n",
       "      <td>some college</td>\n",
       "      <td>standard</td>\n",
       "      <td>completed</td>\n",
       "      <td>69</td>\n",
       "      <td>90</td>\n",
       "      <td>88</td>\n",
       "    </tr>\n",
       "    <tr>\n",
       "      <th>2</th>\n",
       "      <td>female</td>\n",
       "      <td>group B</td>\n",
       "      <td>master's degree</td>\n",
       "      <td>standard</td>\n",
       "      <td>none</td>\n",
       "      <td>90</td>\n",
       "      <td>95</td>\n",
       "      <td>93</td>\n",
       "    </tr>\n",
       "    <tr>\n",
       "      <th>3</th>\n",
       "      <td>male</td>\n",
       "      <td>group A</td>\n",
       "      <td>associate's degree</td>\n",
       "      <td>free/reduced</td>\n",
       "      <td>none</td>\n",
       "      <td>47</td>\n",
       "      <td>57</td>\n",
       "      <td>44</td>\n",
       "    </tr>\n",
       "    <tr>\n",
       "      <th>4</th>\n",
       "      <td>male</td>\n",
       "      <td>group C</td>\n",
       "      <td>some college</td>\n",
       "      <td>standard</td>\n",
       "      <td>none</td>\n",
       "      <td>76</td>\n",
       "      <td>78</td>\n",
       "      <td>75</td>\n",
       "    </tr>\n",
       "  </tbody>\n",
       "</table>\n",
       "</div>"
      ],
      "text/plain": [
       "   gender race/ethnicity parental level of education         lunch  \\\n",
       "0  female        group B           bachelor's degree      standard   \n",
       "1  female        group C                some college      standard   \n",
       "2  female        group B             master's degree      standard   \n",
       "3    male        group A          associate's degree  free/reduced   \n",
       "4    male        group C                some college      standard   \n",
       "\n",
       "  test preparation course  math score  reading score  writing score  \n",
       "0                    none          72             72             74  \n",
       "1               completed          69             90             88  \n",
       "2                    none          90             95             93  \n",
       "3                    none          47             57             44  \n",
       "4                    none          76             78             75  "
      ]
     },
     "execution_count": 8,
     "metadata": {},
     "output_type": "execute_result"
    }
   ],
   "source": [
    "# First Five Recors Of Data\n",
    "df.head()"
   ]
  },
  {
   "cell_type": "code",
   "execution_count": 9,
   "id": "a1a9431a",
   "metadata": {},
   "outputs": [
    {
     "data": {
      "text/plain": [
       "gender                         0\n",
       "race/ethnicity                 0\n",
       "parental level of education    0\n",
       "lunch                          0\n",
       "test preparation course        0\n",
       "math score                     0\n",
       "reading score                  0\n",
       "writing score                  0\n",
       "dtype: int64"
      ]
     },
     "execution_count": 9,
     "metadata": {},
     "output_type": "execute_result"
    }
   ],
   "source": [
    "# Check Whether Data Contain Any Missing Values\n",
    "df.isna().sum()"
   ]
  },
  {
   "cell_type": "markdown",
   "id": "6a5c91d6",
   "metadata": {},
   "source": [
    "#### There are no missing values "
   ]
  },
  {
   "cell_type": "code",
   "execution_count": 10,
   "id": "a95d5b87",
   "metadata": {},
   "outputs": [
    {
     "data": {
      "text/plain": [
       "0"
      ]
     },
     "execution_count": 10,
     "metadata": {},
     "output_type": "execute_result"
    }
   ],
   "source": [
    "# Check Whether Any Duplicates If There Try to remove those duplicates\n",
    "df.duplicated().sum()"
   ]
  },
  {
   "cell_type": "markdown",
   "id": "966bdfa9",
   "metadata": {},
   "source": [
    "#### There are no duplicates"
   ]
  },
  {
   "cell_type": "code",
   "execution_count": 11,
   "id": "e26bde6a",
   "metadata": {},
   "outputs": [
    {
     "name": "stdout",
     "output_type": "stream",
     "text": [
      "<class 'pandas.core.frame.DataFrame'>\n",
      "RangeIndex: 1000 entries, 0 to 999\n",
      "Data columns (total 8 columns):\n",
      " #   Column                       Non-Null Count  Dtype \n",
      "---  ------                       --------------  ----- \n",
      " 0   gender                       1000 non-null   object\n",
      " 1   race/ethnicity               1000 non-null   object\n",
      " 2   parental level of education  1000 non-null   object\n",
      " 3   lunch                        1000 non-null   object\n",
      " 4   test preparation course      1000 non-null   object\n",
      " 5   math score                   1000 non-null   int64 \n",
      " 6   reading score                1000 non-null   int64 \n",
      " 7   writing score                1000 non-null   int64 \n",
      "dtypes: int64(3), object(5)\n",
      "memory usage: 62.6+ KB\n"
     ]
    }
   ],
   "source": [
    "# Check Data Types\n",
    "df.info()"
   ]
  },
  {
   "cell_type": "code",
   "execution_count": 12,
   "id": "10f1351a",
   "metadata": {},
   "outputs": [
    {
     "data": {
      "text/plain": [
       "gender                          2\n",
       "race/ethnicity                  5\n",
       "parental level of education     6\n",
       "lunch                           2\n",
       "test preparation course         2\n",
       "math score                     81\n",
       "reading score                  72\n",
       "writing score                  77\n",
       "dtype: int64"
      ]
     },
     "execution_count": 12,
     "metadata": {},
     "output_type": "execute_result"
    }
   ],
   "source": [
    "# Checkin Number of unique values of each attribute\n",
    "df.nunique()"
   ]
  },
  {
   "cell_type": "code",
   "execution_count": 13,
   "id": "53bddd77",
   "metadata": {},
   "outputs": [
    {
     "data": {
      "text/html": [
       "<div>\n",
       "<style scoped>\n",
       "    .dataframe tbody tr th:only-of-type {\n",
       "        vertical-align: middle;\n",
       "    }\n",
       "\n",
       "    .dataframe tbody tr th {\n",
       "        vertical-align: top;\n",
       "    }\n",
       "\n",
       "    .dataframe thead th {\n",
       "        text-align: right;\n",
       "    }\n",
       "</style>\n",
       "<table border=\"1\" class=\"dataframe\">\n",
       "  <thead>\n",
       "    <tr style=\"text-align: right;\">\n",
       "      <th></th>\n",
       "      <th>math score</th>\n",
       "      <th>reading score</th>\n",
       "      <th>writing score</th>\n",
       "    </tr>\n",
       "  </thead>\n",
       "  <tbody>\n",
       "    <tr>\n",
       "      <th>count</th>\n",
       "      <td>1000.00000</td>\n",
       "      <td>1000.000000</td>\n",
       "      <td>1000.000000</td>\n",
       "    </tr>\n",
       "    <tr>\n",
       "      <th>mean</th>\n",
       "      <td>66.08900</td>\n",
       "      <td>69.169000</td>\n",
       "      <td>68.054000</td>\n",
       "    </tr>\n",
       "    <tr>\n",
       "      <th>std</th>\n",
       "      <td>15.16308</td>\n",
       "      <td>14.600192</td>\n",
       "      <td>15.195657</td>\n",
       "    </tr>\n",
       "    <tr>\n",
       "      <th>min</th>\n",
       "      <td>0.00000</td>\n",
       "      <td>17.000000</td>\n",
       "      <td>10.000000</td>\n",
       "    </tr>\n",
       "    <tr>\n",
       "      <th>25%</th>\n",
       "      <td>57.00000</td>\n",
       "      <td>59.000000</td>\n",
       "      <td>57.750000</td>\n",
       "    </tr>\n",
       "    <tr>\n",
       "      <th>50%</th>\n",
       "      <td>66.00000</td>\n",
       "      <td>70.000000</td>\n",
       "      <td>69.000000</td>\n",
       "    </tr>\n",
       "    <tr>\n",
       "      <th>75%</th>\n",
       "      <td>77.00000</td>\n",
       "      <td>79.000000</td>\n",
       "      <td>79.000000</td>\n",
       "    </tr>\n",
       "    <tr>\n",
       "      <th>max</th>\n",
       "      <td>100.00000</td>\n",
       "      <td>100.000000</td>\n",
       "      <td>100.000000</td>\n",
       "    </tr>\n",
       "  </tbody>\n",
       "</table>\n",
       "</div>"
      ],
      "text/plain": [
       "       math score  reading score  writing score\n",
       "count  1000.00000    1000.000000    1000.000000\n",
       "mean     66.08900      69.169000      68.054000\n",
       "std      15.16308      14.600192      15.195657\n",
       "min       0.00000      17.000000      10.000000\n",
       "25%      57.00000      59.000000      57.750000\n",
       "50%      66.00000      70.000000      69.000000\n",
       "75%      77.00000      79.000000      79.000000\n",
       "max     100.00000     100.000000     100.000000"
      ]
     },
     "execution_count": 13,
     "metadata": {},
     "output_type": "execute_result"
    }
   ],
   "source": [
    "# Check Statistics of data\n",
    "df.describe()"
   ]
  },
  {
   "cell_type": "code",
   "execution_count": 14,
   "id": "a44d0833",
   "metadata": {},
   "outputs": [
    {
     "data": {
      "text/html": [
       "<div>\n",
       "<style scoped>\n",
       "    .dataframe tbody tr th:only-of-type {\n",
       "        vertical-align: middle;\n",
       "    }\n",
       "\n",
       "    .dataframe tbody tr th {\n",
       "        vertical-align: top;\n",
       "    }\n",
       "\n",
       "    .dataframe thead th {\n",
       "        text-align: right;\n",
       "    }\n",
       "</style>\n",
       "<table border=\"1\" class=\"dataframe\">\n",
       "  <thead>\n",
       "    <tr style=\"text-align: right;\">\n",
       "      <th></th>\n",
       "      <th>gender</th>\n",
       "      <th>race/ethnicity</th>\n",
       "      <th>parental level of education</th>\n",
       "      <th>lunch</th>\n",
       "      <th>test preparation course</th>\n",
       "      <th>math score</th>\n",
       "      <th>reading score</th>\n",
       "      <th>writing score</th>\n",
       "    </tr>\n",
       "  </thead>\n",
       "  <tbody>\n",
       "    <tr>\n",
       "      <th>0</th>\n",
       "      <td>female</td>\n",
       "      <td>group B</td>\n",
       "      <td>bachelor's degree</td>\n",
       "      <td>standard</td>\n",
       "      <td>none</td>\n",
       "      <td>72</td>\n",
       "      <td>72</td>\n",
       "      <td>74</td>\n",
       "    </tr>\n",
       "    <tr>\n",
       "      <th>1</th>\n",
       "      <td>female</td>\n",
       "      <td>group C</td>\n",
       "      <td>some college</td>\n",
       "      <td>standard</td>\n",
       "      <td>completed</td>\n",
       "      <td>69</td>\n",
       "      <td>90</td>\n",
       "      <td>88</td>\n",
       "    </tr>\n",
       "    <tr>\n",
       "      <th>2</th>\n",
       "      <td>female</td>\n",
       "      <td>group B</td>\n",
       "      <td>master's degree</td>\n",
       "      <td>standard</td>\n",
       "      <td>none</td>\n",
       "      <td>90</td>\n",
       "      <td>95</td>\n",
       "      <td>93</td>\n",
       "    </tr>\n",
       "    <tr>\n",
       "      <th>3</th>\n",
       "      <td>male</td>\n",
       "      <td>group A</td>\n",
       "      <td>associate's degree</td>\n",
       "      <td>free/reduced</td>\n",
       "      <td>none</td>\n",
       "      <td>47</td>\n",
       "      <td>57</td>\n",
       "      <td>44</td>\n",
       "    </tr>\n",
       "    <tr>\n",
       "      <th>4</th>\n",
       "      <td>male</td>\n",
       "      <td>group C</td>\n",
       "      <td>some college</td>\n",
       "      <td>standard</td>\n",
       "      <td>none</td>\n",
       "      <td>76</td>\n",
       "      <td>78</td>\n",
       "      <td>75</td>\n",
       "    </tr>\n",
       "  </tbody>\n",
       "</table>\n",
       "</div>"
      ],
      "text/plain": [
       "   gender race/ethnicity parental level of education         lunch  \\\n",
       "0  female        group B           bachelor's degree      standard   \n",
       "1  female        group C                some college      standard   \n",
       "2  female        group B             master's degree      standard   \n",
       "3    male        group A          associate's degree  free/reduced   \n",
       "4    male        group C                some college      standard   \n",
       "\n",
       "  test preparation course  math score  reading score  writing score  \n",
       "0                    none          72             72             74  \n",
       "1               completed          69             90             88  \n",
       "2                    none          90             95             93  \n",
       "3                    none          47             57             44  \n",
       "4                    none          76             78             75  "
      ]
     },
     "execution_count": 14,
     "metadata": {},
     "output_type": "execute_result"
    }
   ],
   "source": [
    "df.head()"
   ]
  },
  {
   "cell_type": "markdown",
   "id": "f290cdf8",
   "metadata": {},
   "source": [
    "## Expolring Data"
   ]
  },
  {
   "cell_type": "code",
   "execution_count": 19,
   "id": "05d67a73",
   "metadata": {},
   "outputs": [
    {
     "name": "stdout",
     "output_type": "stream",
     "text": [
      "Categories in Gender Column:       ['female' 'male']\n",
      "\n",
      "Categories in Race/Ethnicity Column:       ['group B' 'group C' 'group A' 'group D' 'group E']\n",
      "\n",
      "Categories in Parental Level Of Education Column:       [\"bachelor's degree\" 'some college' \"master's degree\" \"associate's degree\"\n",
      " 'high school' 'some high school']\n",
      "\n",
      "Categories in Lunch Column:       ['standard' 'free/reduced']\n",
      "\n",
      "Categories in Test Preparation Course Column:       ['none' 'completed']\n"
     ]
    }
   ],
   "source": [
    "print(\"Categories in Gender Column:      \",end=\" \")\n",
    "print(df['gender'].unique())\n",
    "print()\n",
    "\n",
    "print(\"Categories in Race/Ethnicity Column:      \",end=\" \")\n",
    "print(df['race/ethnicity'].unique())\n",
    "print()\n",
    "\n",
    "print(\"Categories in Parental Level Of Education Column:      \",end=\" \")\n",
    "print(df['parental level of education'].unique())\n",
    "print()\n",
    "\n",
    "print(\"Categories in Lunch Column:      \",end=\" \")\n",
    "print(df['lunch'].unique())\n",
    "print()\n",
    "\n",
    "print(\"Categories in Test Preparation Course Column:      \",end=\" \")\n",
    "print(df['test preparation course'].unique())\n"
   ]
  },
  {
   "cell_type": "code",
   "execution_count": 32,
   "id": "aece88fc",
   "metadata": {},
   "outputs": [],
   "source": [
    "# Define numerical & Categorical features \n",
    "numerical_features  = [feature for feature in df.columns if df[feature].dtype =='int64']\n",
    "Categorical_features  = [feature for feature in df.columns if df[feature].dtype =='object']"
   ]
  },
  {
   "cell_type": "code",
   "execution_count": 33,
   "id": "3f3ef2d0",
   "metadata": {},
   "outputs": [
    {
     "name": "stdout",
     "output_type": "stream",
     "text": [
      "We have 3 numerical features['math score', 'reading score', 'writing score']\n",
      "We have 5 categorical features['gender', 'race/ethnicity', 'parental level of education', 'lunch', 'test preparation course']\n"
     ]
    }
   ],
   "source": [
    "print('We have {} numerical features{}'.format(len(numerical_features),numerical_features))\n",
    "print('We have {} categorical features{}'.format(len(Categorical_features),Categorical_features))"
   ]
  },
  {
   "cell_type": "code",
   "execution_count": 38,
   "id": "17f4f763",
   "metadata": {},
   "outputs": [],
   "source": [
    "# Adding an extra column namely TOTAL SCORE And Average\n",
    "df['total score'] = df['math score'] + df['reading score'] + df['writing score']\n",
    "df['average'] = df['total score']/3"
   ]
  },
  {
   "cell_type": "code",
   "execution_count": 39,
   "id": "dc3f74f2",
   "metadata": {},
   "outputs": [
    {
     "data": {
      "text/html": [
       "<div>\n",
       "<style scoped>\n",
       "    .dataframe tbody tr th:only-of-type {\n",
       "        vertical-align: middle;\n",
       "    }\n",
       "\n",
       "    .dataframe tbody tr th {\n",
       "        vertical-align: top;\n",
       "    }\n",
       "\n",
       "    .dataframe thead th {\n",
       "        text-align: right;\n",
       "    }\n",
       "</style>\n",
       "<table border=\"1\" class=\"dataframe\">\n",
       "  <thead>\n",
       "    <tr style=\"text-align: right;\">\n",
       "      <th></th>\n",
       "      <th>gender</th>\n",
       "      <th>race/ethnicity</th>\n",
       "      <th>parental level of education</th>\n",
       "      <th>lunch</th>\n",
       "      <th>test preparation course</th>\n",
       "      <th>math score</th>\n",
       "      <th>reading score</th>\n",
       "      <th>writing score</th>\n",
       "      <th>total score</th>\n",
       "      <th>average</th>\n",
       "    </tr>\n",
       "  </thead>\n",
       "  <tbody>\n",
       "    <tr>\n",
       "      <th>0</th>\n",
       "      <td>female</td>\n",
       "      <td>group B</td>\n",
       "      <td>bachelor's degree</td>\n",
       "      <td>standard</td>\n",
       "      <td>none</td>\n",
       "      <td>72</td>\n",
       "      <td>72</td>\n",
       "      <td>74</td>\n",
       "      <td>218</td>\n",
       "      <td>72.666667</td>\n",
       "    </tr>\n",
       "    <tr>\n",
       "      <th>1</th>\n",
       "      <td>female</td>\n",
       "      <td>group C</td>\n",
       "      <td>some college</td>\n",
       "      <td>standard</td>\n",
       "      <td>completed</td>\n",
       "      <td>69</td>\n",
       "      <td>90</td>\n",
       "      <td>88</td>\n",
       "      <td>247</td>\n",
       "      <td>82.333333</td>\n",
       "    </tr>\n",
       "    <tr>\n",
       "      <th>2</th>\n",
       "      <td>female</td>\n",
       "      <td>group B</td>\n",
       "      <td>master's degree</td>\n",
       "      <td>standard</td>\n",
       "      <td>none</td>\n",
       "      <td>90</td>\n",
       "      <td>95</td>\n",
       "      <td>93</td>\n",
       "      <td>278</td>\n",
       "      <td>92.666667</td>\n",
       "    </tr>\n",
       "    <tr>\n",
       "      <th>3</th>\n",
       "      <td>male</td>\n",
       "      <td>group A</td>\n",
       "      <td>associate's degree</td>\n",
       "      <td>free/reduced</td>\n",
       "      <td>none</td>\n",
       "      <td>47</td>\n",
       "      <td>57</td>\n",
       "      <td>44</td>\n",
       "      <td>148</td>\n",
       "      <td>49.333333</td>\n",
       "    </tr>\n",
       "    <tr>\n",
       "      <th>4</th>\n",
       "      <td>male</td>\n",
       "      <td>group C</td>\n",
       "      <td>some college</td>\n",
       "      <td>standard</td>\n",
       "      <td>none</td>\n",
       "      <td>76</td>\n",
       "      <td>78</td>\n",
       "      <td>75</td>\n",
       "      <td>229</td>\n",
       "      <td>76.333333</td>\n",
       "    </tr>\n",
       "  </tbody>\n",
       "</table>\n",
       "</div>"
      ],
      "text/plain": [
       "   gender race/ethnicity parental level of education         lunch  \\\n",
       "0  female        group B           bachelor's degree      standard   \n",
       "1  female        group C                some college      standard   \n",
       "2  female        group B             master's degree      standard   \n",
       "3    male        group A          associate's degree  free/reduced   \n",
       "4    male        group C                some college      standard   \n",
       "\n",
       "  test preparation course  math score  reading score  writing score  \\\n",
       "0                    none          72             72             74   \n",
       "1               completed          69             90             88   \n",
       "2                    none          90             95             93   \n",
       "3                    none          47             57             44   \n",
       "4                    none          76             78             75   \n",
       "\n",
       "   total score    average  \n",
       "0          218  72.666667  \n",
       "1          247  82.333333  \n",
       "2          278  92.666667  \n",
       "3          148  49.333333  \n",
       "4          229  76.333333  "
      ]
     },
     "execution_count": 39,
     "metadata": {},
     "output_type": "execute_result"
    }
   ],
   "source": [
    "df.head()"
   ]
  },
  {
   "cell_type": "code",
   "execution_count": 58,
   "id": "c6b0380c",
   "metadata": {},
   "outputs": [
    {
     "data": {
      "text/plain": [
       "[]"
      ]
     },
     "execution_count": 58,
     "metadata": {},
     "output_type": "execute_result"
    },
    {
     "data": {
      "image/png": "[encoded data removed]",
      "text/plain": [
       "<Figure size 432x288 with 1 Axes>"
      ]
     },
     "metadata": {
      "needs_background": "light"
     },
     "output_type": "display_data"
    }
   ],
   "source": [
    "sns.histplot(x='total score',data=df,hue='gender')\n",
    "plt.plot()"
   ]
  },
  {
   "cell_type": "markdown",
   "id": "c97e110e",
   "metadata": {},
   "source": [
    "#### This Bar Graph show that majority of students girls are performing well in scoring good marks in test"
   ]
  },
  {
   "cell_type": "markdown",
   "id": "5edaada8",
   "metadata": {},
   "source": [
    "## Data Transformation"
   ]
  },
  {
   "cell_type": "code",
   "execution_count": 71,
   "id": "ed0d2c83",
   "metadata": {},
   "outputs": [],
   "source": [
    "encoder = LabelEncoder()\n",
    "df['gender'] = encoder.fit_transform(df['gender'])\n",
    "df['race/ethnicity'] = encoder.fit_transform(df['race/ethnicity'])\n",
    "df['parental level of education'] = encoder.fit_transform(df['parental level of education'])\n",
    "df['lunch'] = encoder.fit_transform(df['lunch'])\n",
    "df['test preparation course'] = encoder.fit_transform(df['test preparation course'])\n"
   ]
  },
  {
   "cell_type": "markdown",
   "id": "2f862cbe",
   "metadata": {},
   "source": [
    "#### Splitting Data into independent variables and dependent variables"
   ]
  },
  {
   "cell_type": "code",
   "execution_count": 202,
   "id": "d49aa00c",
   "metadata": {},
   "outputs": [],
   "source": [
    "X = df.iloc[:,:-1].values\n",
    "Y = df.iloc[:,-1].values"
   ]
  },
  {
   "cell_type": "code",
   "execution_count": 205,
   "id": "1c921b8c",
   "metadata": {},
   "outputs": [
    {
     "name": "stdout",
     "output_type": "stream",
     "text": [
      "First Five Rows Independent Variables:  [[  0   1   1   1   1  72  72  74 218]\n",
      " [  0   2   4   1   0  69  90  88 247]\n",
      " [  0   1   3   1   1  90  95  93 278]\n",
      " [  1   0   0   0   1  47  57  44 148]\n",
      " [  1   2   4   1   1  76  78  75 229]]\n",
      "\n",
      "First Five Rows Dependent Variables:  [72.66666667 82.33333333 92.66666667 49.33333333 76.33333333]\n"
     ]
    }
   ],
   "source": [
    "print(\"First Five Rows Independent Variables: \",X[:5,:])\n",
    "print()\n",
    "print(\"First Five Values Dependent Variables: \",Y[:5])"
   ]
  },
  {
   "cell_type": "markdown",
   "id": "78842e16",
   "metadata": {},
   "source": [
    "### Splitting the data into trainig and testing data"
   ]
  },
  {
   "cell_type": "code",
   "execution_count": 206,
   "id": "d8b0ba10",
   "metadata": {},
   "outputs": [],
   "source": [
    "X_train,X_test,Y_train,Y_test = train_test_split(X,Y,test_size=0.2,random_state=0)"
   ]
  },
  {
   "cell_type": "markdown",
   "id": "a44658ad",
   "metadata": {},
   "source": [
    "### Let's See Our training data and testing data"
   ]
  },
  {
   "cell_type": "code",
   "execution_count": 210,
   "id": "8c880766",
   "metadata": {},
   "outputs": [
    {
     "name": "stdout",
     "output_type": "stream",
     "text": [
      "Fist Five Rows X traing data: [[  1   3   0   0   1  77  78  73 228]\n",
      " [  0   3   3   1   1  74  79  82 235]\n",
      " [  1   4   0   1   0  62  56  53 171]\n",
      " [  0   2   0   1   1  91  95  94 280]\n",
      " [  1   3   1   0   0  61  70  76 207]]\n",
      "Fist Five Values Y traing data: [76.         78.33333333 57.         93.33333333 69.        ]\n",
      "Fist Five Rows X testing data: [[  0   3   1   0   1  62  72  74 208]\n",
      " [  1   2   0   0   1  87  73  72 232]\n",
      " [  1   2   2   0   0  40  46  50 136]\n",
      " [  1   3   4   0   1  77  62  64 203]\n",
      " [  0   2   4   1   1  69  78  76 223]]\n",
      "Fist Five Values Y testing data: [69.33333333 77.33333333 45.33333333 67.66666667 74.33333333]\n"
     ]
    }
   ],
   "source": [
    "print(\"Fist Five Rows X traing data:\",X_train[:5,:])\n",
    "print(\"Fist Five Values Y traing data:\",Y_train[:5])\n",
    "print(\"Fist Five Rows X testing data:\",X_test[:5,:])\n",
    "print(\"Fist Five Values Y testing data:\",Y_test[:5])"
   ]
  },
  {
   "cell_type": "markdown",
   "id": "c6551780",
   "metadata": {},
   "source": [
    "### Standardize the Data "
   ]
  },
  {
   "cell_type": "code",
   "execution_count": 211,
   "id": "a6103a25",
   "metadata": {},
   "outputs": [],
   "source": [
    "scaler = StandardScaler()\n",
    "X_train = scaler.fit_transform(X_train)\n",
    "X_test = scaler.transform(X_test)"
   ]
  },
  {
   "cell_type": "markdown",
   "id": "e02d6a76",
   "metadata": {},
   "source": [
    "### After transfromation is performed the data looks like"
   ]
  },
  {
   "cell_type": "code",
   "execution_count": 212,
   "id": "74111a9c",
   "metadata": {},
   "outputs": [
    {
     "name": "stdout",
     "output_type": "stream",
     "text": [
      "Fist Five Rows X traing data: [[ 1.04868371  0.71210873 -1.37207862 -1.37407665  0.75        0.71271928\n",
      "   0.59195828  0.31345224  0.56543806]\n",
      " [-0.95357636  0.71210873  0.25569631  0.72776144  0.75        0.51508482\n",
      "   0.66077063  0.90580292  0.72910442]\n",
      " [ 1.04868371  1.57136512 -1.37207862  0.72776144 -1.33333333 -0.27545303\n",
      "  -0.92191352 -1.00288261 -0.76727376]\n",
      " [-0.95357636 -0.14714766 -1.37207862  0.72776144  0.75        1.63501344\n",
      "   1.7617683   1.69560383  1.78124533]\n",
      " [ 1.04868371  0.71210873 -0.82948698 -1.37407665 -1.33333333 -0.34133119\n",
      "   0.04145944  0.51090246  0.07443897]]\n",
      "Fist Five Rows X testing data: [[-0.95357636  0.71210873 -0.82948698 -1.37407665  0.75       -0.27545303\n",
      "   0.17908415  0.37926898  0.09781988]\n",
      " [ 1.04868371 -0.14714766 -1.37207862 -1.37407665  0.75        1.37150083\n",
      "   0.24789651  0.24763549  0.6589617 ]\n",
      " [ 1.04868371 -0.14714766 -0.28689533 -1.37407665 -1.33333333 -1.72477243\n",
      "  -1.61003706 -1.20033284 -1.58560557]\n",
      " [ 1.04868371  0.71210873  0.79828796 -1.37407665  0.75        0.71271928\n",
      "  -0.50903939 -0.27889845 -0.01908467]\n",
      " [-0.95357636 -0.14714766  0.79828796  0.72776144  0.75        0.18569405\n",
      "   0.59195828  0.51090246  0.44853351]]\n"
     ]
    }
   ],
   "source": [
    "print(\"Fist Five Rows X traing data:\",X_train[:5,:])\n",
    "print(\"Fist Five Rows X testing data:\",X_test[:5,:])"
   ]
  },
  {
   "cell_type": "markdown",
   "id": "ece3d9ac",
   "metadata": {},
   "source": [
    "## Model Training"
   ]
  },
  {
   "cell_type": "markdown",
   "id": "80f2772c",
   "metadata": {},
   "source": [
    "## LinearRegression Model"
   ]
  },
  {
   "cell_type": "code",
   "execution_count": 268,
   "id": "59164b7a",
   "metadata": {},
   "outputs": [
    {
     "name": "stdout",
     "output_type": "stream",
     "text": [
      "69.33333333333333\n"
     ]
    }
   ],
   "source": [
    "linear_regression_model = LinearRegression()\n",
    "linear_regression_model.fit(X_train,Y_train)\n",
    "y_pred = linear_regression_model.predict(X_test)\n",
    "print(y_pred[0])"
   ]
  },
  {
   "cell_type": "code",
   "execution_count": 269,
   "id": "fc92bd9e",
   "metadata": {},
   "outputs": [
    {
     "name": "stdout",
     "output_type": "stream",
     "text": [
      "Mean_Squared_Error:  4.7899634165019836e-29\n",
      "Mean_Absolute_Error:  4.103384299014579e-15\n",
      "R2_Score:  1.0\n"
     ]
    }
   ],
   "source": [
    "Mean_Square_Error = mean_squared_error(Y_test,y_pred)\n",
    "print(\"Mean_Squared_Error: \",Mean_Square_Error)\n",
    "Mean_Absolute_Error = mean_absolute_error(Y_test,y_pred)\n",
    "print(\"Mean_Absolute_Error: \",Mean_Absolute_Error)\n",
    "R2_Score = r2_score(Y_test,y_pred)\n",
    "print(\"R2_Score: \",R2_Score)"
   ]
  },
  {
   "cell_type": "markdown",
   "id": "2bd05add",
   "metadata": {},
   "source": [
    "## RandomForest Model"
   ]
  },
  {
   "cell_type": "code",
   "execution_count": 256,
   "id": "aefedb91",
   "metadata": {},
   "outputs": [
    {
     "name": "stdout",
     "output_type": "stream",
     "text": [
      "69.35333333333325\n"
     ]
    }
   ],
   "source": [
    "Random_Forest_model = RandomForestRegressor()\n",
    "Random_Forest_model.fit(X_train,Y_train)\n",
    "y_pred = Random_Forest_model.predict(X_test)\n",
    "print(y_pred[0])"
   ]
  },
  {
   "cell_type": "code",
   "execution_count": 240,
   "id": "6318d1fa",
   "metadata": {},
   "outputs": [
    {
     "name": "stdout",
     "output_type": "stream",
     "text": [
      "Mean_Squared_Error:  0.013251111111111349\n",
      "Mean_Absolute_Error:  0.0463333333333385\n",
      "R2_Score:  0.999934324865774\n"
     ]
    }
   ],
   "source": [
    "Mean_Square_Error = mean_squared_error(Y_test,y_pred)\n",
    "print(\"Mean_Squared_Error: \",Mean_Square_Error)\n",
    "Mean_Absolute_Error = mean_absolute_error(Y_test,y_pred)\n",
    "print(\"Mean_Absolute_Error: \",Mean_Absolute_Error)\n",
    "R2_Score = r2_score(Y_test,y_pred)\n",
    "print(\"R2_Score: \",R2_Score)"
   ]
  },
  {
   "cell_type": "markdown",
   "id": "6d794592",
   "metadata": {},
   "source": [
    "## DecisionTree Model "
   ]
  },
  {
   "cell_type": "code",
   "execution_count": 257,
   "id": "36c3388d",
   "metadata": {},
   "outputs": [
    {
     "name": "stdout",
     "output_type": "stream",
     "text": [
      "69.33333333333333\n"
     ]
    }
   ],
   "source": [
    "Decision_Tree_model = DecisionTreeRegressor()\n",
    "Decision_Tree_model.fit(X_train,Y_train)\n",
    "y_pred = Decision_Tree_model.predict(X_test)\n",
    "print(y_pred[0])"
   ]
  },
  {
   "cell_type": "code",
   "execution_count": 242,
   "id": "f506ff72",
   "metadata": {},
   "outputs": [
    {
     "name": "stdout",
     "output_type": "stream",
     "text": [
      "Mean_Squared_Error:  0.23722222222222228\n",
      "Mean_Absolute_Error:  0.09166666666666742\n",
      "R2_Score:  0.9988242796279365\n"
     ]
    }
   ],
   "source": [
    "Mean_Square_Error = mean_squared_error(Y_test,y_pred)\n",
    "print(\"Mean_Squared_Error: \",Mean_Square_Error)\n",
    "Mean_Absolute_Error = mean_absolute_error(Y_test,y_pred)\n",
    "print(\"Mean_Absolute_Error: \",Mean_Absolute_Error)\n",
    "R2_Score = r2_score(Y_test,y_pred)\n",
    "print(\"R2_Score: \",R2_Score)"
   ]
  },
  {
   "cell_type": "markdown",
   "id": "1e77586c",
   "metadata": {},
   "source": [
    "# KNeighborsRegressor Model"
   ]
  },
  {
   "cell_type": "code",
   "execution_count": 258,
   "id": "f54e839a",
   "metadata": {},
   "outputs": [
    {
     "name": "stdout",
     "output_type": "stream",
     "text": [
      "69.66666666666666\n"
     ]
    }
   ],
   "source": [
    "KNeighbors_Model = KNeighborsRegressor()\n",
    "KNeighbors_Model.fit(X_train,Y_train)\n",
    "y_pred = KNeighbors_Model.predict(X_test)\n",
    "print(y_pred[0])"
   ]
  },
  {
   "cell_type": "code",
   "execution_count": 244,
   "id": "0fe51cb0",
   "metadata": {},
   "outputs": [
    {
     "name": "stdout",
     "output_type": "stream",
     "text": [
      "Mean_Squared_Error:  6.873755555555556\n",
      "Mean_Absolute_Error:  1.9436666666666662\n",
      "R2_Score:  0.9659323044715413\n"
     ]
    }
   ],
   "source": [
    "Mean_Square_Error = mean_squared_error(Y_test,y_pred)\n",
    "print(\"Mean_Squared_Error: \",Mean_Square_Error)\n",
    "Mean_Absolute_Error = mean_absolute_error(Y_test,y_pred)\n",
    "print(\"Mean_Absolute_Error: \",Mean_Absolute_Error)\n",
    "R2_Score = r2_score(Y_test,y_pred)\n",
    "print(\"R2_Score: \",R2_Score)"
   ]
  },
  {
   "cell_type": "markdown",
   "id": "047ce0e1",
   "metadata": {},
   "source": [
    "## XGBRegressor Model "
   ]
  },
  {
   "cell_type": "code",
   "execution_count": 272,
   "id": "08f759ef",
   "metadata": {},
   "outputs": [
    {
     "name": "stdout",
     "output_type": "stream",
     "text": [
      "69.326866\n"
     ]
    }
   ],
   "source": [
    "model = XGBRegressor()\n",
    "model.fit(X_train,Y_train)\n",
    "y_pred = model.predict(X_test)\n",
    "print(y_pred[0])"
   ]
  },
  {
   "cell_type": "code",
   "execution_count": 273,
   "id": "eae8e710",
   "metadata": {},
   "outputs": [
    {
     "name": "stdout",
     "output_type": "stream",
     "text": [
      "Mean_Squared_Error:  0.03374879647808083\n",
      "Mean_Absolute_Error:  0.09013314882914246\n",
      "R2_Score:  0.9998327342726149\n"
     ]
    }
   ],
   "source": [
    "Mean_Square_Error = mean_squared_error(Y_test,y_pred)\n",
    "print(\"Mean_Squared_Error: \",Mean_Square_Error)\n",
    "Mean_Absolute_Error = mean_absolute_error(Y_test,y_pred)\n",
    "print(\"Mean_Absolute_Error: \",Mean_Absolute_Error)\n",
    "R2_Score = r2_score(Y_test,y_pred)\n",
    "print(\"R2_Score: \",R2_Score)"
   ]
  },
  {
   "cell_type": "markdown",
   "id": "07b1235a",
   "metadata": {},
   "source": [
    "# Model Prediction With New Data"
   ]
  },
  {
   "cell_type": "code",
   "execution_count": 265,
   "id": "a9287128",
   "metadata": {},
   "outputs": [
    {
     "name": "stdout",
     "output_type": "stream",
     "text": [
      "67.93875\n"
     ]
    }
   ],
   "source": [
    "input_data = [0   ,1,   1,   1,   1,  72,  72,  74, 218]\n",
    "input_data_array = np.asarray(input_data)\n",
    "input_data_reshaped = input_data_array.reshape(1, -1)\n",
    "scaled_input_data = scaler.fit_transform(input_data_reshaped)\n",
    "prediction = linear_regression_model.predict(scaled_input_data)\n",
    "print(*prediction)\n"
   ]
  },
  {
   "cell_type": "code",
   "execution_count": 266,
   "id": "87b5e518",
   "metadata": {},
   "outputs": [],
   "source": [
    "import pickle"
   ]
  },
  {
   "cell_type": "code",
   "execution_count": 275,
   "id": "d1c9a7ed",
   "metadata": {},
   "outputs": [],
   "source": [
    "with open('model.pkl', 'wb') as file:\n",
    "    pickle.dump(model, file)\n"
   ]
  },
  {
   "cell_type": "code",
   "execution_count": null,
   "id": "ee0e8bca",
   "metadata": {},
   "outputs": [],
   "source": []
  }
 ],
 "metadata": {
  "kernelspec": {
   "display_name": "Python 3 (ipykernel)",
   "language": "python",
   "name": "python3"
  },
  "language_info": {
   "codemirror_mode": {
    "name": "ipython",
    "version": 3
   },
   "file_extension": ".py",
   "mimetype": "text/x-python",
   "name": "python",
   "nbconvert_exporter": "python",
   "pygments_lexer": "ipython3",
   "version": "3.9.12"
  }
 },
 "nbformat": 4,
 "nbformat_minor": 5
}
